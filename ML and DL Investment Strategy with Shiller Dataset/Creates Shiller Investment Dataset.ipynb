{
 "cells": [
  {
   "cell_type": "markdown",
   "metadata": {},
   "source": [
    "# Creates Shiller Investment Dataset\n",
    "- Converts Shiller spreadsheet to Shiller Investment Dataset.csv   \n",
    "    - Selects specific factors\n",
    "    - Adds stock and bond returns "
   ]
  },
  {
   "cell_type": "markdown",
   "metadata": {},
   "source": [
    "Dependencies   \n",
    "- http://www.econ.yale.edu/~shiller/data/ie_data.xls\n"
   ]
  },
  {
   "cell_type": "code",
   "execution_count": 1,
   "metadata": {},
   "outputs": [],
   "source": [
    "import numpy as np\n",
    "import pandas as pd\n",
    "import matplotlib as plt"
   ]
  },
  {
   "cell_type": "markdown",
   "metadata": {},
   "source": [
    "## Import Shiller spreadsheet"
   ]
  },
  {
   "cell_type": "code",
   "execution_count": 2,
   "metadata": {},
   "outputs": [],
   "source": [
    "link = 'http://www.econ.yale.edu/~shiller/data/ie_data.xls'"
   ]
  },
  {
   "cell_type": "code",
   "execution_count": 3,
   "metadata": {
    "scrolled": true
   },
   "outputs": [
    {
     "data": {
      "text/html": [
       "<div>\n",
       "<style scoped>\n",
       "    .dataframe tbody tr th:only-of-type {\n",
       "        vertical-align: middle;\n",
       "    }\n",
       "\n",
       "    .dataframe tbody tr th {\n",
       "        vertical-align: top;\n",
       "    }\n",
       "\n",
       "    .dataframe thead th {\n",
       "        text-align: right;\n",
       "    }\n",
       "</style>\n",
       "<table border=\"1\" class=\"dataframe\">\n",
       "  <thead>\n",
       "    <tr style=\"text-align: right;\">\n",
       "      <th></th>\n",
       "      <th>Date</th>\n",
       "      <th>P</th>\n",
       "      <th>D</th>\n",
       "      <th>E</th>\n",
       "      <th>CPI</th>\n",
       "      <th>Fraction</th>\n",
       "      <th>Rate GS10</th>\n",
       "      <th>Price</th>\n",
       "      <th>Dividend</th>\n",
       "      <th>Price.1</th>\n",
       "      <th>...</th>\n",
       "      <th>CAPE</th>\n",
       "      <th>Unnamed: 13</th>\n",
       "      <th>TR CAPE</th>\n",
       "      <th>Unnamed: 15</th>\n",
       "      <th>Yield</th>\n",
       "      <th>Returns</th>\n",
       "      <th>Returns.1</th>\n",
       "      <th>Real Return</th>\n",
       "      <th>Real Return.1</th>\n",
       "      <th>Returns.2</th>\n",
       "    </tr>\n",
       "  </thead>\n",
       "  <tbody>\n",
       "    <tr>\n",
       "      <th>1814</th>\n",
       "      <td>2022.03</td>\n",
       "      <td>4391.27</td>\n",
       "      <td>61.969974</td>\n",
       "      <td>197.89</td>\n",
       "      <td>287.504</td>\n",
       "      <td>2022.208333</td>\n",
       "      <td>2.13</td>\n",
       "      <td>4488.795770</td>\n",
       "      <td>63.346335</td>\n",
       "      <td>2.883798e+06</td>\n",
       "      <td>...</td>\n",
       "      <td>34.270844</td>\n",
       "      <td>NaN</td>\n",
       "      <td>37.239465</td>\n",
       "      <td>NaN</td>\n",
       "      <td>0.030717</td>\n",
       "      <td>0.948016</td>\n",
       "      <td>47.304227</td>\n",
       "      <td>NaN</td>\n",
       "      <td>NaN</td>\n",
       "      <td>NaN</td>\n",
       "    </tr>\n",
       "    <tr>\n",
       "      <th>1815</th>\n",
       "      <td>2022.04</td>\n",
       "      <td>4391.3</td>\n",
       "      <td>NaN</td>\n",
       "      <td>NaN</td>\n",
       "      <td>289.109</td>\n",
       "      <td>2022.291667</td>\n",
       "      <td>2.75</td>\n",
       "      <td>4463.907335</td>\n",
       "      <td>NaN</td>\n",
       "      <td>2.867809e+06</td>\n",
       "      <td>...</td>\n",
       "      <td>33.889253</td>\n",
       "      <td>NaN</td>\n",
       "      <td>36.757253</td>\n",
       "      <td>NaN</td>\n",
       "      <td>0.025106</td>\n",
       "      <td>0.989378</td>\n",
       "      <td>44.596200</td>\n",
       "      <td>NaN</td>\n",
       "      <td>NaN</td>\n",
       "      <td>NaN</td>\n",
       "    </tr>\n",
       "    <tr>\n",
       "      <th>1816</th>\n",
       "      <td>2022.05</td>\n",
       "      <td>4040.36</td>\n",
       "      <td>NaN</td>\n",
       "      <td>NaN</td>\n",
       "      <td>292.296</td>\n",
       "      <td>2022.375000</td>\n",
       "      <td>2.9</td>\n",
       "      <td>4062.386691</td>\n",
       "      <td>NaN</td>\n",
       "      <td>2.609854e+06</td>\n",
       "      <td>...</td>\n",
       "      <td>30.803849</td>\n",
       "      <td>NaN</td>\n",
       "      <td>33.386294</td>\n",
       "      <td>NaN</td>\n",
       "      <td>0.027804</td>\n",
       "      <td>0.953019</td>\n",
       "      <td>43.641414</td>\n",
       "      <td>NaN</td>\n",
       "      <td>NaN</td>\n",
       "      <td>NaN</td>\n",
       "    </tr>\n",
       "    <tr>\n",
       "      <th>1817</th>\n",
       "      <td>2022.06</td>\n",
       "      <td>3789.99</td>\n",
       "      <td>NaN</td>\n",
       "      <td>NaN</td>\n",
       "      <td>293.889</td>\n",
       "      <td>2022.458333</td>\n",
       "      <td>3.49</td>\n",
       "      <td>3789.990000</td>\n",
       "      <td>NaN</td>\n",
       "      <td>2.434855e+06</td>\n",
       "      <td>...</td>\n",
       "      <td>28.702967</td>\n",
       "      <td>NaN</td>\n",
       "      <td>31.086592</td>\n",
       "      <td>NaN</td>\n",
       "      <td>0.024988</td>\n",
       "      <td>NaN</td>\n",
       "      <td>41.365606</td>\n",
       "      <td>NaN</td>\n",
       "      <td>NaN</td>\n",
       "      <td>NaN</td>\n",
       "    </tr>\n",
       "    <tr>\n",
       "      <th>1818</th>\n",
       "      <td>NaN</td>\n",
       "      <td>June 2022 P is June 15 close</td>\n",
       "      <td>NaN</td>\n",
       "      <td>S&amp;P Estimated Earnnings</td>\n",
       "      <td>June 2022 CPI estimated</td>\n",
       "      <td>NaN</td>\n",
       "      <td>June 2022 GS10 is June 14 value</td>\n",
       "      <td>NaN</td>\n",
       "      <td>NaN</td>\n",
       "      <td>NaN</td>\n",
       "      <td>...</td>\n",
       "      <td>NaN</td>\n",
       "      <td>NaN</td>\n",
       "      <td>NaN</td>\n",
       "      <td>NaN</td>\n",
       "      <td>NaN</td>\n",
       "      <td>NaN</td>\n",
       "      <td>NaN</td>\n",
       "      <td>NaN</td>\n",
       "      <td>NaN</td>\n",
       "      <td>NaN</td>\n",
       "    </tr>\n",
       "  </tbody>\n",
       "</table>\n",
       "<p>5 rows × 22 columns</p>\n",
       "</div>"
      ],
      "text/plain": [
       "         Date                             P          D  \\\n",
       "1814  2022.03                       4391.27  61.969974   \n",
       "1815  2022.04                        4391.3        NaN   \n",
       "1816  2022.05                       4040.36        NaN   \n",
       "1817  2022.06                       3789.99        NaN   \n",
       "1818      NaN  June 2022 P is June 15 close        NaN   \n",
       "\n",
       "                            E                      CPI     Fraction  \\\n",
       "1814                   197.89                  287.504  2022.208333   \n",
       "1815                      NaN                  289.109  2022.291667   \n",
       "1816                      NaN                  292.296  2022.375000   \n",
       "1817                      NaN                  293.889  2022.458333   \n",
       "1818  S&P Estimated Earnnings  June 2022 CPI estimated          NaN   \n",
       "\n",
       "                            Rate GS10        Price   Dividend       Price.1  \\\n",
       "1814                             2.13  4488.795770  63.346335  2.883798e+06   \n",
       "1815                             2.75  4463.907335        NaN  2.867809e+06   \n",
       "1816                              2.9  4062.386691        NaN  2.609854e+06   \n",
       "1817                             3.49  3789.990000        NaN  2.434855e+06   \n",
       "1818  June 2022 GS10 is June 14 value          NaN        NaN           NaN   \n",
       "\n",
       "      ...       CAPE  Unnamed: 13    TR CAPE  Unnamed: 15     Yield   Returns  \\\n",
       "1814  ...  34.270844          NaN  37.239465          NaN  0.030717  0.948016   \n",
       "1815  ...  33.889253          NaN  36.757253          NaN  0.025106  0.989378   \n",
       "1816  ...  30.803849          NaN  33.386294          NaN  0.027804  0.953019   \n",
       "1817  ...  28.702967          NaN  31.086592          NaN  0.024988       NaN   \n",
       "1818  ...        NaN          NaN        NaN          NaN       NaN       NaN   \n",
       "\n",
       "      Returns.1  Real Return  Real Return.1  Returns.2  \n",
       "1814  47.304227          NaN            NaN        NaN  \n",
       "1815  44.596200          NaN            NaN        NaN  \n",
       "1816  43.641414          NaN            NaN        NaN  \n",
       "1817  41.365606          NaN            NaN        NaN  \n",
       "1818        NaN          NaN            NaN        NaN  \n",
       "\n",
       "[5 rows x 22 columns]"
      ]
     },
     "execution_count": 3,
     "metadata": {},
     "output_type": "execute_result"
    }
   ],
   "source": [
    "xls = pd.ExcelFile(link)\n",
    "df = pd.read_excel(xls,'Data', header = 7)\n",
    "df.tail()"
   ]
  },
  {
   "cell_type": "code",
   "execution_count": 4,
   "metadata": {},
   "outputs": [],
   "source": [
    "df['Date'] = pd.date_range(start='1/1/1871', periods=len(df), freq='M')    \n"
   ]
  },
  {
   "cell_type": "markdown",
   "metadata": {},
   "source": [
    "### Rename Factors"
   ]
  },
  {
   "cell_type": "code",
   "execution_count": 5,
   "metadata": {},
   "outputs": [
    {
     "data": {
      "text/plain": [
       "Index(['Date', 'Price_nom', 'Div_nom', 'Earn_nom', 'CPI', 'Fraction',\n",
       "       'Yield_10yr', 'Price_real', 'Div_real', 'Price_TR_real', 'Earn_real',\n",
       "       'Earn_TR_real', 'CAPE', 'Unnamed: 13', 'CAPE_TR', 'Unnamed: 15',\n",
       "       'Excess_CAPE_yld', 'Bond_ret_nom', 'Bond_ret_real', 'Stock_10ret_real',\n",
       "       'Bond_10ret_real', 'Excess_10ret_real'],\n",
       "      dtype='object')"
      ]
     },
     "execution_count": 5,
     "metadata": {},
     "output_type": "execute_result"
    }
   ],
   "source": [
    "df = df.rename({'Date': 'Date', 'P': 'Price_nom', 'D': 'Div_nom', 'E': 'Earn_nom', 'Dividend': 'Div_real'}, axis=1) \n",
    "\n",
    "\n",
    "df = df.rename({'Rate GS10': 'Yield_10yr', 'Price': 'Price_real', 'Price.1': 'Price_TR_real', 'Dividend': 'Div_real'}, axis=1) \n",
    "\n",
    "\n",
    "df = df.rename({'Earnings': 'Earn_real', 'Earnings.1': 'Earn_TR_real', 'TR CAPE': 'CAPE_TR'}, axis=1) \n",
    "\n",
    "\n",
    "df = df.rename({'Yield': 'Excess_CAPE_yld', 'Returns': 'Bond_ret_nom', 'Returns.1': 'Bond_ret_real'}, axis=1) \n",
    "\n",
    "\n",
    "df = df.rename({'Real Return': 'Stock_10ret_real', 'Real Return.1': 'Bond_10ret_real', 'Returns.2': 'Excess_10ret_real'}, axis=1) \n",
    "df.columns"
   ]
  },
  {
   "cell_type": "markdown",
   "metadata": {},
   "source": [
    "### Drop columns"
   ]
  },
  {
   "cell_type": "code",
   "execution_count": 6,
   "metadata": {},
   "outputs": [],
   "source": [
    "df.drop(['Unnamed: 13', 'Unnamed: 15'], inplace=True, axis=1)"
   ]
  },
  {
   "cell_type": "markdown",
   "metadata": {},
   "source": [
    "### Create New Dataframe With Specific Factors"
   ]
  },
  {
   "cell_type": "code",
   "execution_count": 7,
   "metadata": {
    "scrolled": true
   },
   "outputs": [
    {
     "data": {
      "text/html": [
       "<div>\n",
       "<style scoped>\n",
       "    .dataframe tbody tr th:only-of-type {\n",
       "        vertical-align: middle;\n",
       "    }\n",
       "\n",
       "    .dataframe tbody tr th {\n",
       "        vertical-align: top;\n",
       "    }\n",
       "\n",
       "    .dataframe thead th {\n",
       "        text-align: right;\n",
       "    }\n",
       "</style>\n",
       "<table border=\"1\" class=\"dataframe\">\n",
       "  <thead>\n",
       "    <tr style=\"text-align: right;\">\n",
       "      <th></th>\n",
       "      <th>Date</th>\n",
       "      <th>Price_nom</th>\n",
       "      <th>Div_nom</th>\n",
       "      <th>Earn_nom</th>\n",
       "      <th>Yield_10yr</th>\n",
       "      <th>CPI</th>\n",
       "    </tr>\n",
       "  </thead>\n",
       "  <tbody>\n",
       "    <tr>\n",
       "      <th>1814</th>\n",
       "      <td>2022-03-31</td>\n",
       "      <td>4391.27</td>\n",
       "      <td>61.969974</td>\n",
       "      <td>197.89</td>\n",
       "      <td>2.13</td>\n",
       "      <td>287.504</td>\n",
       "    </tr>\n",
       "    <tr>\n",
       "      <th>1815</th>\n",
       "      <td>2022-04-30</td>\n",
       "      <td>4391.3</td>\n",
       "      <td>NaN</td>\n",
       "      <td>NaN</td>\n",
       "      <td>2.75</td>\n",
       "      <td>289.109</td>\n",
       "    </tr>\n",
       "    <tr>\n",
       "      <th>1816</th>\n",
       "      <td>2022-05-31</td>\n",
       "      <td>4040.36</td>\n",
       "      <td>NaN</td>\n",
       "      <td>NaN</td>\n",
       "      <td>2.9</td>\n",
       "      <td>292.296</td>\n",
       "    </tr>\n",
       "    <tr>\n",
       "      <th>1817</th>\n",
       "      <td>2022-06-30</td>\n",
       "      <td>3789.99</td>\n",
       "      <td>NaN</td>\n",
       "      <td>NaN</td>\n",
       "      <td>3.49</td>\n",
       "      <td>293.889</td>\n",
       "    </tr>\n",
       "    <tr>\n",
       "      <th>1818</th>\n",
       "      <td>2022-07-31</td>\n",
       "      <td>June 2022 P is June 15 close</td>\n",
       "      <td>NaN</td>\n",
       "      <td>S&amp;P Estimated Earnnings</td>\n",
       "      <td>June 2022 GS10 is June 14 value</td>\n",
       "      <td>June 2022 CPI estimated</td>\n",
       "    </tr>\n",
       "  </tbody>\n",
       "</table>\n",
       "</div>"
      ],
      "text/plain": [
       "           Date                     Price_nom    Div_nom  \\\n",
       "1814 2022-03-31                       4391.27  61.969974   \n",
       "1815 2022-04-30                        4391.3        NaN   \n",
       "1816 2022-05-31                       4040.36        NaN   \n",
       "1817 2022-06-30                       3789.99        NaN   \n",
       "1818 2022-07-31  June 2022 P is June 15 close        NaN   \n",
       "\n",
       "                     Earn_nom                       Yield_10yr  \\\n",
       "1814                   197.89                             2.13   \n",
       "1815                      NaN                             2.75   \n",
       "1816                      NaN                              2.9   \n",
       "1817                      NaN                             3.49   \n",
       "1818  S&P Estimated Earnnings  June 2022 GS10 is June 14 value   \n",
       "\n",
       "                          CPI  \n",
       "1814                  287.504  \n",
       "1815                  289.109  \n",
       "1816                  292.296  \n",
       "1817                  293.889  \n",
       "1818  June 2022 CPI estimated  "
      ]
     },
     "execution_count": 7,
     "metadata": {},
     "output_type": "execute_result"
    }
   ],
   "source": [
    "df1 = df[['Date', 'Price_nom', 'Div_nom', 'Earn_nom', 'Yield_10yr', 'CPI']]\n",
    "df1.tail()"
   ]
  },
  {
   "cell_type": "markdown",
   "metadata": {},
   "source": [
    "### Drop rows with NaN's"
   ]
  },
  {
   "cell_type": "code",
   "execution_count": 8,
   "metadata": {},
   "outputs": [],
   "source": [
    "df1 = df1.dropna()"
   ]
  },
  {
   "cell_type": "markdown",
   "metadata": {},
   "source": [
    "### Change data types"
   ]
  },
  {
   "cell_type": "code",
   "execution_count": 9,
   "metadata": {
    "scrolled": true
   },
   "outputs": [],
   "source": [
    "df1[\"Date\"] = pd.to_datetime(df1[\"Date\"])\n",
    "df1[\"Price_nom\"] = pd.to_numeric(df1[\"Price_nom\"])\n",
    "df1[\"Div_nom\"] = pd.to_numeric(df1[\"Div_nom\"])\n",
    "df1[\"Earn_nom\"] = pd.to_numeric(df1[\"Earn_nom\"])\n",
    "df1[\"Yield_10yr\"] = pd.to_numeric(df1[\"Yield_10yr\"])\n",
    "df1[\"CPI\"] = pd.to_numeric(df1[\"CPI\"])"
   ]
  },
  {
   "cell_type": "code",
   "execution_count": 10,
   "metadata": {
    "scrolled": true
   },
   "outputs": [
    {
     "data": {
      "text/plain": [
       "Date          datetime64[ns]\n",
       "Price_nom            float64\n",
       "Div_nom              float64\n",
       "Earn_nom             float64\n",
       "Yield_10yr           float64\n",
       "CPI                  float64\n",
       "dtype: object"
      ]
     },
     "execution_count": 10,
     "metadata": {},
     "output_type": "execute_result"
    }
   ],
   "source": [
    "df1.dtypes"
   ]
  },
  {
   "cell_type": "markdown",
   "metadata": {},
   "source": [
    "### Calculate Stock Return"
   ]
  },
  {
   "cell_type": "code",
   "execution_count": 11,
   "metadata": {
    "scrolled": true
   },
   "outputs": [],
   "source": [
    "\n",
    "df1[\"Stk_ret\"] = (df1.Price_nom+df1.Div_nom/12)/df1.Price_nom.shift()-1"
   ]
  },
  {
   "cell_type": "markdown",
   "metadata": {},
   "source": [
    "### Calculate Bond Return"
   ]
  },
  {
   "cell_type": "code",
   "execution_count": 12,
   "metadata": {},
   "outputs": [],
   "source": [
    "# Yields\n",
    "YTM0 = df1.Yield_10yr.shift()\n",
    "YTM1 = df1.Yield_10yr\n"
   ]
  },
  {
   "cell_type": "code",
   "execution_count": 13,
   "metadata": {},
   "outputs": [],
   "source": [
    "pmt=0\n",
    "for i in range(10):\n",
    "    pmt = pmt + (YTM0/100)/(1+YTM1/100)**((i+11/12))\n",
    "P1 = pmt + 1/(1+YTM1/100)**(9+11/12)\n",
    "df1[\"Bnd_ret\"] = P1-1"
   ]
  },
  {
   "cell_type": "markdown",
   "metadata": {},
   "source": [
    "### Calculate Dividend Yield"
   ]
  },
  {
   "cell_type": "code",
   "execution_count": 14,
   "metadata": {},
   "outputs": [],
   "source": [
    "df1[\"Div_yield\"] = df1.Div_nom/df1.Price_nom.shift()"
   ]
  },
  {
   "cell_type": "markdown",
   "metadata": {},
   "source": [
    "### Set Start Date at 12/1919 and End Date 12/2021"
   ]
  },
  {
   "cell_type": "code",
   "execution_count": 15,
   "metadata": {},
   "outputs": [],
   "source": [
    "df1 = df1[df1.Date > \"1919-12-1\"]\n",
    "df1 = df1[df1.Date < \"2022-1-1\"]"
   ]
  },
  {
   "cell_type": "code",
   "execution_count": 16,
   "metadata": {},
   "outputs": [
    {
     "data": {
      "text/html": [
       "<div>\n",
       "<style scoped>\n",
       "    .dataframe tbody tr th:only-of-type {\n",
       "        vertical-align: middle;\n",
       "    }\n",
       "\n",
       "    .dataframe tbody tr th {\n",
       "        vertical-align: top;\n",
       "    }\n",
       "\n",
       "    .dataframe thead th {\n",
       "        text-align: right;\n",
       "    }\n",
       "</style>\n",
       "<table border=\"1\" class=\"dataframe\">\n",
       "  <thead>\n",
       "    <tr style=\"text-align: right;\">\n",
       "      <th></th>\n",
       "      <th>Price_nom</th>\n",
       "      <th>Div_nom</th>\n",
       "      <th>Earn_nom</th>\n",
       "      <th>Yield_10yr</th>\n",
       "      <th>CPI</th>\n",
       "      <th>Stk_ret</th>\n",
       "      <th>Bond_ret</th>\n",
       "      <th>Div_yield</th>\n",
       "    </tr>\n",
       "  </thead>\n",
       "  <tbody>\n",
       "    <tr>\n",
       "      <th>count</th>\n",
       "      <td>1225.000000</td>\n",
       "      <td>1225.000000</td>\n",
       "      <td>1225.000000</td>\n",
       "      <td>1225.000000</td>\n",
       "      <td>1225.000000</td>\n",
       "      <td>1225.000000</td>\n",
       "      <td>1225.000000</td>\n",
       "      <td>1225.000000</td>\n",
       "    </tr>\n",
       "    <tr>\n",
       "      <th>mean</th>\n",
       "      <td>489.773891</td>\n",
       "      <td>10.061741</td>\n",
       "      <td>23.304008</td>\n",
       "      <td>4.783199</td>\n",
       "      <td>88.199781</td>\n",
       "      <td>0.009299</td>\n",
       "      <td>0.004183</td>\n",
       "      <td>0.038793</td>\n",
       "    </tr>\n",
       "    <tr>\n",
       "      <th>std</th>\n",
       "      <td>808.010099</td>\n",
       "      <td>14.056567</td>\n",
       "      <td>34.628441</td>\n",
       "      <td>2.728199</td>\n",
       "      <td>81.585873</td>\n",
       "      <td>0.044050</td>\n",
       "      <td>0.014879</td>\n",
       "      <td>0.017425</td>\n",
       "    </tr>\n",
       "    <tr>\n",
       "      <th>min</th>\n",
       "      <td>4.770000</td>\n",
       "      <td>0.440000</td>\n",
       "      <td>0.290000</td>\n",
       "      <td>0.620000</td>\n",
       "      <td>12.600000</td>\n",
       "      <td>-0.261879</td>\n",
       "      <td>-0.080542</td>\n",
       "      <td>0.011007</td>\n",
       "    </tr>\n",
       "    <tr>\n",
       "      <th>25%</th>\n",
       "      <td>16.890000</td>\n",
       "      <td>0.850000</td>\n",
       "      <td>1.290000</td>\n",
       "      <td>2.661667</td>\n",
       "      <td>19.000000</td>\n",
       "      <td>-0.010116</td>\n",
       "      <td>-0.000829</td>\n",
       "      <td>0.024289</td>\n",
       "    </tr>\n",
       "    <tr>\n",
       "      <th>50%</th>\n",
       "      <td>93.010000</td>\n",
       "      <td>3.110000</td>\n",
       "      <td>5.736670</td>\n",
       "      <td>3.960000</td>\n",
       "      <td>39.800000</td>\n",
       "      <td>0.012864</td>\n",
       "      <td>0.003031</td>\n",
       "      <td>0.036364</td>\n",
       "    </tr>\n",
       "    <tr>\n",
       "      <th>75%</th>\n",
       "      <td>661.230000</td>\n",
       "      <td>14.270000</td>\n",
       "      <td>27.330000</td>\n",
       "      <td>6.270000</td>\n",
       "      <td>156.700000</td>\n",
       "      <td>0.032581</td>\n",
       "      <td>0.008938</td>\n",
       "      <td>0.050794</td>\n",
       "    </tr>\n",
       "    <tr>\n",
       "      <th>max</th>\n",
       "      <td>4674.772727</td>\n",
       "      <td>60.397117</td>\n",
       "      <td>197.870000</td>\n",
       "      <td>15.320000</td>\n",
       "      <td>278.802000</td>\n",
       "      <td>0.513085</td>\n",
       "      <td>0.105548</td>\n",
       "      <td>0.132767</td>\n",
       "    </tr>\n",
       "  </tbody>\n",
       "</table>\n",
       "</div>"
      ],
      "text/plain": [
       "         Price_nom      Div_nom     Earn_nom   Yield_10yr          CPI  \\\n",
       "count  1225.000000  1225.000000  1225.000000  1225.000000  1225.000000   \n",
       "mean    489.773891    10.061741    23.304008     4.783199    88.199781   \n",
       "std     808.010099    14.056567    34.628441     2.728199    81.585873   \n",
       "min       4.770000     0.440000     0.290000     0.620000    12.600000   \n",
       "25%      16.890000     0.850000     1.290000     2.661667    19.000000   \n",
       "50%      93.010000     3.110000     5.736670     3.960000    39.800000   \n",
       "75%     661.230000    14.270000    27.330000     6.270000   156.700000   \n",
       "max    4674.772727    60.397117   197.870000    15.320000   278.802000   \n",
       "\n",
       "           Stk_ret     Bond_ret    Div_yield  \n",
       "count  1225.000000  1225.000000  1225.000000  \n",
       "mean      0.009299     0.004183     0.038793  \n",
       "std       0.044050     0.014879     0.017425  \n",
       "min      -0.261879    -0.080542     0.011007  \n",
       "25%      -0.010116    -0.000829     0.024289  \n",
       "50%       0.012864     0.003031     0.036364  \n",
       "75%       0.032581     0.008938     0.050794  \n",
       "max       0.513085     0.105548     0.132767  "
      ]
     },
     "execution_count": 16,
     "metadata": {},
     "output_type": "execute_result"
    }
   ],
   "source": [
    "df1.describe()"
   ]
  },
  {
   "cell_type": "code",
   "execution_count": 17,
   "metadata": {},
   "outputs": [],
   "source": [
    "df1.set_index('Date', inplace=True)"
   ]
  },
  {
   "cell_type": "markdown",
   "metadata": {},
   "source": [
    "### Save As 'Shiller Investment Dataset.csv'"
   ]
  },
  {
   "cell_type": "code",
   "execution_count": 18,
   "metadata": {},
   "outputs": [],
   "source": [
    "df1.to_csv('Shiller Investment Dataset.csv', index=True) "
   ]
  },
  {
   "cell_type": "markdown",
   "metadata": {},
   "source": [
    "#### Check dataset"
   ]
  },
  {
   "cell_type": "code",
   "execution_count": 19,
   "metadata": {},
   "outputs": [],
   "source": [
    "df2 = pd.read_csv (r'Shiller Investment Dataset.csv')"
   ]
  },
  {
   "cell_type": "code",
   "execution_count": 20,
   "metadata": {},
   "outputs": [
    {
     "data": {
      "text/html": [
       "<div>\n",
       "<style scoped>\n",
       "    .dataframe tbody tr th:only-of-type {\n",
       "        vertical-align: middle;\n",
       "    }\n",
       "\n",
       "    .dataframe tbody tr th {\n",
       "        vertical-align: top;\n",
       "    }\n",
       "\n",
       "    .dataframe thead th {\n",
       "        text-align: right;\n",
       "    }\n",
       "</style>\n",
       "<table border=\"1\" class=\"dataframe\">\n",
       "  <thead>\n",
       "    <tr style=\"text-align: right;\">\n",
       "      <th></th>\n",
       "      <th>Date</th>\n",
       "      <th>Price_nom</th>\n",
       "      <th>Div_nom</th>\n",
       "      <th>Earn_nom</th>\n",
       "      <th>Yield_10yr</th>\n",
       "      <th>CPI</th>\n",
       "      <th>Stk_ret</th>\n",
       "      <th>Bond_ret</th>\n",
       "      <th>Div_yield</th>\n",
       "    </tr>\n",
       "  </thead>\n",
       "  <tbody>\n",
       "    <tr>\n",
       "      <th>0</th>\n",
       "      <td>1919-12-31</td>\n",
       "      <td>8.920000</td>\n",
       "      <td>0.530000</td>\n",
       "      <td>0.930000</td>\n",
       "      <td>4.930833</td>\n",
       "      <td>18.900</td>\n",
       "      <td>-0.024574</td>\n",
       "      <td>0.000972</td>\n",
       "      <td>0.057671</td>\n",
       "    </tr>\n",
       "    <tr>\n",
       "      <th>1</th>\n",
       "      <td>1920-01-31</td>\n",
       "      <td>8.830000</td>\n",
       "      <td>0.528300</td>\n",
       "      <td>0.919200</td>\n",
       "      <td>4.970000</td>\n",
       "      <td>19.300</td>\n",
       "      <td>-0.005154</td>\n",
       "      <td>0.001009</td>\n",
       "      <td>0.059226</td>\n",
       "    </tr>\n",
       "    <tr>\n",
       "      <th>2</th>\n",
       "      <td>1920-02-29</td>\n",
       "      <td>8.100000</td>\n",
       "      <td>0.526700</td>\n",
       "      <td>0.908300</td>\n",
       "      <td>4.980000</td>\n",
       "      <td>19.500</td>\n",
       "      <td>-0.077702</td>\n",
       "      <td>0.003282</td>\n",
       "      <td>0.059649</td>\n",
       "    </tr>\n",
       "    <tr>\n",
       "      <th>3</th>\n",
       "      <td>1920-03-31</td>\n",
       "      <td>8.670000</td>\n",
       "      <td>0.525000</td>\n",
       "      <td>0.897500</td>\n",
       "      <td>4.990000</td>\n",
       "      <td>19.700</td>\n",
       "      <td>0.075772</td>\n",
       "      <td>0.003290</td>\n",
       "      <td>0.064815</td>\n",
       "    </tr>\n",
       "    <tr>\n",
       "      <th>4</th>\n",
       "      <td>1920-04-30</td>\n",
       "      <td>8.600000</td>\n",
       "      <td>0.523300</td>\n",
       "      <td>0.886700</td>\n",
       "      <td>5.000000</td>\n",
       "      <td>20.300</td>\n",
       "      <td>-0.003044</td>\n",
       "      <td>0.003299</td>\n",
       "      <td>0.060358</td>\n",
       "    </tr>\n",
       "    <tr>\n",
       "      <th>...</th>\n",
       "      <td>...</td>\n",
       "      <td>...</td>\n",
       "      <td>...</td>\n",
       "      <td>...</td>\n",
       "      <td>...</td>\n",
       "      <td>...</td>\n",
       "      <td>...</td>\n",
       "      <td>...</td>\n",
       "      <td>...</td>\n",
       "    </tr>\n",
       "    <tr>\n",
       "      <th>1220</th>\n",
       "      <td>2021-08-31</td>\n",
       "      <td>4454.206364</td>\n",
       "      <td>58.791336</td>\n",
       "      <td>169.873333</td>\n",
       "      <td>1.280000</td>\n",
       "      <td>273.567</td>\n",
       "      <td>0.021860</td>\n",
       "      <td>0.004797</td>\n",
       "      <td>0.013473</td>\n",
       "    </tr>\n",
       "    <tr>\n",
       "      <th>1221</th>\n",
       "      <td>2021-09-30</td>\n",
       "      <td>4445.543333</td>\n",
       "      <td>59.254483</td>\n",
       "      <td>175.430000</td>\n",
       "      <td>1.370000</td>\n",
       "      <td>274.310</td>\n",
       "      <td>-0.000836</td>\n",
       "      <td>-0.007232</td>\n",
       "      <td>0.013303</td>\n",
       "    </tr>\n",
       "    <tr>\n",
       "      <th>1222</th>\n",
       "      <td>2021-10-31</td>\n",
       "      <td>4460.707143</td>\n",
       "      <td>59.635361</td>\n",
       "      <td>182.910000</td>\n",
       "      <td>1.580000</td>\n",
       "      <td>276.589</td>\n",
       "      <td>0.004529</td>\n",
       "      <td>-0.018003</td>\n",
       "      <td>0.013415</td>\n",
       "    </tr>\n",
       "    <tr>\n",
       "      <th>1223</th>\n",
       "      <td>2021-11-30</td>\n",
       "      <td>4667.386667</td>\n",
       "      <td>60.016239</td>\n",
       "      <td>190.390000</td>\n",
       "      <td>1.560000</td>\n",
       "      <td>277.948</td>\n",
       "      <td>0.047455</td>\n",
       "      <td>0.003132</td>\n",
       "      <td>0.013454</td>\n",
       "    </tr>\n",
       "    <tr>\n",
       "      <th>1224</th>\n",
       "      <td>2021-12-31</td>\n",
       "      <td>4674.772727</td>\n",
       "      <td>60.397117</td>\n",
       "      <td>197.870000</td>\n",
       "      <td>1.470000</td>\n",
       "      <td>278.802</td>\n",
       "      <td>0.002661</td>\n",
       "      <td>0.009540</td>\n",
       "      <td>0.012940</td>\n",
       "    </tr>\n",
       "  </tbody>\n",
       "</table>\n",
       "<p>1225 rows × 9 columns</p>\n",
       "</div>"
      ],
      "text/plain": [
       "            Date    Price_nom    Div_nom    Earn_nom  Yield_10yr      CPI  \\\n",
       "0     1919-12-31     8.920000   0.530000    0.930000    4.930833   18.900   \n",
       "1     1920-01-31     8.830000   0.528300    0.919200    4.970000   19.300   \n",
       "2     1920-02-29     8.100000   0.526700    0.908300    4.980000   19.500   \n",
       "3     1920-03-31     8.670000   0.525000    0.897500    4.990000   19.700   \n",
       "4     1920-04-30     8.600000   0.523300    0.886700    5.000000   20.300   \n",
       "...          ...          ...        ...         ...         ...      ...   \n",
       "1220  2021-08-31  4454.206364  58.791336  169.873333    1.280000  273.567   \n",
       "1221  2021-09-30  4445.543333  59.254483  175.430000    1.370000  274.310   \n",
       "1222  2021-10-31  4460.707143  59.635361  182.910000    1.580000  276.589   \n",
       "1223  2021-11-30  4667.386667  60.016239  190.390000    1.560000  277.948   \n",
       "1224  2021-12-31  4674.772727  60.397117  197.870000    1.470000  278.802   \n",
       "\n",
       "       Stk_ret  Bond_ret  Div_yield  \n",
       "0    -0.024574  0.000972   0.057671  \n",
       "1    -0.005154  0.001009   0.059226  \n",
       "2    -0.077702  0.003282   0.059649  \n",
       "3     0.075772  0.003290   0.064815  \n",
       "4    -0.003044  0.003299   0.060358  \n",
       "...        ...       ...        ...  \n",
       "1220  0.021860  0.004797   0.013473  \n",
       "1221 -0.000836 -0.007232   0.013303  \n",
       "1222  0.004529 -0.018003   0.013415  \n",
       "1223  0.047455  0.003132   0.013454  \n",
       "1224  0.002661  0.009540   0.012940  \n",
       "\n",
       "[1225 rows x 9 columns]"
      ]
     },
     "execution_count": 20,
     "metadata": {},
     "output_type": "execute_result"
    }
   ],
   "source": [
    "df2"
   ]
  },
  {
   "cell_type": "code",
   "execution_count": null,
   "metadata": {},
   "outputs": [],
   "source": []
  }
 ],
 "metadata": {
  "kernelspec": {
   "display_name": "Python 3",
   "language": "python",
   "name": "python3"
  },
  "language_info": {
   "codemirror_mode": {
    "name": "ipython",
    "version": 3
   },
   "file_extension": ".py",
   "mimetype": "text/x-python",
   "name": "python",
   "nbconvert_exporter": "python",
   "pygments_lexer": "ipython3",
   "version": "3.8.8"
  }
 },
 "nbformat": 4,
 "nbformat_minor": 2
}
