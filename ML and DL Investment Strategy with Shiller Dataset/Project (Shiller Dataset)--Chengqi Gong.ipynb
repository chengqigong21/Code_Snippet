{
 "cells": [
  {
   "cell_type": "markdown",
   "id": "f17ec767",
   "metadata": {},
   "source": [
    "## Project (Shiller Investment Dataset)"
   ]
  },
  {
   "cell_type": "markdown",
   "id": "336f4ff9",
   "metadata": {},
   "source": [
    "### Outline  \n",
    "1. Import Data  \n",
    "2. Process Data  \n",
    "a. Feedforward Dataset  \n",
    "b. LSTM Dataset  \n",
    "3. Generate Expected Returns and Risks  \n",
    "a. Linear Regression Factor Model  \n",
    "b. Feedforward Factor Model  \n",
    "c. CNN + LSTM Factor Model  \n",
    "d. Generate Expected Risks   \n",
    "e. Determine SAA Portfolio from Training Dataset   \n",
    "4. Generate Portfolio Weights - Relative Optimization  \n",
    "a. Linear Regression TAA Overlay  \n",
    "b. Feedforward TAA Overlay  \n",
    "c. CNN + LSTM TAA Overlay  \n",
    "5. Calculate TAA Portfolio Returns  \n",
    "a. Linear Regression TAA Overlay  \n",
    "b. Feedforward TAA Overlay  \n",
    "c. CNN + LSTM TAA Overlay     \n",
    "6. Compare Performance  \n",
    "a. Results For \"Out of Sample\" (test dataset)  \n",
    "b. Results For \"In Sample\" (train dataset)  "
   ]
  },
  {
   "cell_type": "code",
   "execution_count": 1,
   "id": "960fc4b5",
   "metadata": {},
   "outputs": [],
   "source": [
    "import numpy as np\n",
    "import pandas as pd\n",
    "import matplotlib.pyplot as plt\n",
    "%matplotlib inline\n",
    "import seaborn as sns "
   ]
  },
  {
   "cell_type": "code",
   "execution_count": 2,
   "id": "12cc50e7",
   "metadata": {},
   "outputs": [],
   "source": [
    "from sklearn.model_selection import train_test_split\n",
    "from sklearn.preprocessing import StandardScaler"
   ]
  },
  {
   "cell_type": "code",
   "execution_count": 3,
   "id": "8a4933d7",
   "metadata": {},
   "outputs": [],
   "source": [
    "import tensorflow as tf\n",
    "from tensorflow.keras.models import Sequential\n",
    "from tensorflow.keras.layers import Dense, LSTM, Conv1D, Conv2D\n",
    "from tensorflow.keras.layers import Dropout, MaxPooling1D, Flatten\n",
    "from tensorflow.keras.optimizers import Adam"
   ]
  },
  {
   "cell_type": "code",
   "execution_count": 4,
   "id": "8a2433b8",
   "metadata": {},
   "outputs": [],
   "source": [
    "from sklearn.linear_model import LinearRegression\n",
    "from sklearn.metrics import r2_score"
   ]
  },
  {
   "cell_type": "code",
   "execution_count": 5,
   "id": "a5273d83",
   "metadata": {},
   "outputs": [],
   "source": [
    "import scipy.stats as sp"
   ]
  },
  {
   "cell_type": "markdown",
   "id": "7e13ca13",
   "metadata": {},
   "source": [
    "## 1. Import Data"
   ]
  },
  {
   "cell_type": "markdown",
   "id": "5264d279",
   "metadata": {},
   "source": [
    "### <font color='blue'>*Import Data functions*</font>"
   ]
  },
  {
   "cell_type": "code",
   "execution_count": 6,
   "id": "6e113b99",
   "metadata": {
    "scrolled": true
   },
   "outputs": [],
   "source": [
    "def import_data():\n",
    "    # Creates dataFrame for feed forward model\n",
    "    df = pd.read_pickle(\"df_shiller\")  # pandas dataframe\n",
    "    df.Stk_ret = df.Stk_ret.shift(-1)\n",
    "    df.Bnd_ret = df.Bnd_ret.shift(-1)\n",
    "    df.dropna(inplace=True)\n",
    "    return df"
   ]
  },
  {
   "cell_type": "code",
   "execution_count": 7,
   "id": "2514e56a",
   "metadata": {
    "scrolled": true
   },
   "outputs": [],
   "source": [
    "def import_data_lstm():\n",
    "    # Creates dataFrame for LSTM model\n",
    "    df = pd.read_pickle(\"df_shiller\")  # pandas dataframe\n",
    "    df.dropna(inplace=True)\n",
    "    return df"
   ]
  },
  {
   "cell_type": "markdown",
   "id": "32938d6c",
   "metadata": {},
   "source": [
    "#### Import data"
   ]
  },
  {
   "cell_type": "code",
   "execution_count": 8,
   "id": "4fed843e",
   "metadata": {},
   "outputs": [],
   "source": [
    "start_date = '1920-12-31'"
   ]
  },
  {
   "cell_type": "code",
   "execution_count": 9,
   "id": "8f4ff087",
   "metadata": {},
   "outputs": [
    {
     "data": {
      "text/html": [
       "<div>\n",
       "<style scoped>\n",
       "    .dataframe tbody tr th:only-of-type {\n",
       "        vertical-align: middle;\n",
       "    }\n",
       "\n",
       "    .dataframe tbody tr th {\n",
       "        vertical-align: top;\n",
       "    }\n",
       "\n",
       "    .dataframe thead th {\n",
       "        text-align: right;\n",
       "    }\n",
       "</style>\n",
       "<table border=\"1\" class=\"dataframe\">\n",
       "  <thead>\n",
       "    <tr style=\"text-align: right;\">\n",
       "      <th></th>\n",
       "      <th>Stk_ret</th>\n",
       "      <th>Bnd_ret</th>\n",
       "      <th>Value</th>\n",
       "      <th>Momentum_stk</th>\n",
       "      <th>Momentum_bnd</th>\n",
       "      <th>Growth</th>\n",
       "      <th>Yield</th>\n",
       "    </tr>\n",
       "    <tr>\n",
       "      <th>Date</th>\n",
       "      <th></th>\n",
       "      <th></th>\n",
       "      <th></th>\n",
       "      <th></th>\n",
       "      <th></th>\n",
       "      <th></th>\n",
       "      <th></th>\n",
       "    </tr>\n",
       "  </thead>\n",
       "  <tbody>\n",
       "    <tr>\n",
       "      <th>1924-12-31</th>\n",
       "      <td>0.045884</td>\n",
       "      <td>0.004527</td>\n",
       "      <td>0.091535</td>\n",
       "      <td>0.261498</td>\n",
       "      <td>0.057413</td>\n",
       "      <td>0.000000</td>\n",
       "      <td>0.038767</td>\n",
       "    </tr>\n",
       "    <tr>\n",
       "      <th>1925-01-31</th>\n",
       "      <td>0.012904</td>\n",
       "      <td>0.004379</td>\n",
       "      <td>0.090425</td>\n",
       "      <td>0.271165</td>\n",
       "      <td>0.056547</td>\n",
       "      <td>0.008029</td>\n",
       "      <td>0.038600</td>\n",
       "    </tr>\n",
       "    <tr>\n",
       "      <th>1925-02-28</th>\n",
       "      <td>-0.021849</td>\n",
       "      <td>0.004368</td>\n",
       "      <td>0.092156</td>\n",
       "      <td>0.275372</td>\n",
       "      <td>0.056249</td>\n",
       "      <td>0.015994</td>\n",
       "      <td>0.038450</td>\n",
       "    </tr>\n",
       "    <tr>\n",
       "      <th>1925-03-31</th>\n",
       "      <td>-0.006042</td>\n",
       "      <td>0.004357</td>\n",
       "      <td>0.097209</td>\n",
       "      <td>0.265398</td>\n",
       "      <td>0.055953</td>\n",
       "      <td>0.023900</td>\n",
       "      <td>0.038300</td>\n",
       "    </tr>\n",
       "    <tr>\n",
       "      <th>1925-04-30</th>\n",
       "      <td>0.036728</td>\n",
       "      <td>0.004345</td>\n",
       "      <td>0.100875</td>\n",
       "      <td>0.280609</td>\n",
       "      <td>0.055658</td>\n",
       "      <td>0.031812</td>\n",
       "      <td>0.038150</td>\n",
       "    </tr>\n",
       "  </tbody>\n",
       "</table>\n",
       "</div>"
      ],
      "text/plain": [
       "             Stk_ret   Bnd_ret     Value  Momentum_stk  Momentum_bnd  \\\n",
       "Date                                                                   \n",
       "1924-12-31  0.045884  0.004527  0.091535      0.261498      0.057413   \n",
       "1925-01-31  0.012904  0.004379  0.090425      0.271165      0.056547   \n",
       "1925-02-28 -0.021849  0.004368  0.092156      0.275372      0.056249   \n",
       "1925-03-31 -0.006042  0.004357  0.097209      0.265398      0.055953   \n",
       "1925-04-30  0.036728  0.004345  0.100875      0.280609      0.055658   \n",
       "\n",
       "              Growth     Yield  \n",
       "Date                            \n",
       "1924-12-31  0.000000  0.038767  \n",
       "1925-01-31  0.008029  0.038600  \n",
       "1925-02-28  0.015994  0.038450  \n",
       "1925-03-31  0.023900  0.038300  \n",
       "1925-04-30  0.031812  0.038150  "
      ]
     },
     "execution_count": 9,
     "metadata": {},
     "output_type": "execute_result"
    }
   ],
   "source": [
    "df = import_data()\n",
    "df = df.loc[df.index > start_date]\n",
    "df.head()"
   ]
  },
  {
   "cell_type": "code",
   "execution_count": 10,
   "id": "3e3e1808",
   "metadata": {},
   "outputs": [
    {
     "data": {
      "text/html": [
       "<div>\n",
       "<style scoped>\n",
       "    .dataframe tbody tr th:only-of-type {\n",
       "        vertical-align: middle;\n",
       "    }\n",
       "\n",
       "    .dataframe tbody tr th {\n",
       "        vertical-align: top;\n",
       "    }\n",
       "\n",
       "    .dataframe thead th {\n",
       "        text-align: right;\n",
       "    }\n",
       "</style>\n",
       "<table border=\"1\" class=\"dataframe\">\n",
       "  <thead>\n",
       "    <tr style=\"text-align: right;\">\n",
       "      <th></th>\n",
       "      <th>Stk_ret</th>\n",
       "      <th>Bnd_ret</th>\n",
       "      <th>Value</th>\n",
       "      <th>Momentum_stk</th>\n",
       "      <th>Momentum_bnd</th>\n",
       "      <th>Growth</th>\n",
       "      <th>Yield</th>\n",
       "    </tr>\n",
       "    <tr>\n",
       "      <th>Date</th>\n",
       "      <th></th>\n",
       "      <th></th>\n",
       "      <th></th>\n",
       "      <th></th>\n",
       "      <th></th>\n",
       "      <th></th>\n",
       "      <th></th>\n",
       "    </tr>\n",
       "  </thead>\n",
       "  <tbody>\n",
       "    <tr>\n",
       "      <th>1924-12-31</th>\n",
       "      <td>0.058696</td>\n",
       "      <td>0.004539</td>\n",
       "      <td>0.091535</td>\n",
       "      <td>0.261498</td>\n",
       "      <td>0.057413</td>\n",
       "      <td>0.000000</td>\n",
       "      <td>0.038767</td>\n",
       "    </tr>\n",
       "    <tr>\n",
       "      <th>1925-01-31</th>\n",
       "      <td>0.045884</td>\n",
       "      <td>0.004527</td>\n",
       "      <td>0.090425</td>\n",
       "      <td>0.271165</td>\n",
       "      <td>0.056547</td>\n",
       "      <td>0.008029</td>\n",
       "      <td>0.038600</td>\n",
       "    </tr>\n",
       "    <tr>\n",
       "      <th>1925-02-28</th>\n",
       "      <td>0.012904</td>\n",
       "      <td>0.004379</td>\n",
       "      <td>0.092156</td>\n",
       "      <td>0.275372</td>\n",
       "      <td>0.056249</td>\n",
       "      <td>0.015994</td>\n",
       "      <td>0.038450</td>\n",
       "    </tr>\n",
       "    <tr>\n",
       "      <th>1925-03-31</th>\n",
       "      <td>-0.021849</td>\n",
       "      <td>0.004368</td>\n",
       "      <td>0.097209</td>\n",
       "      <td>0.265398</td>\n",
       "      <td>0.055953</td>\n",
       "      <td>0.023900</td>\n",
       "      <td>0.038300</td>\n",
       "    </tr>\n",
       "    <tr>\n",
       "      <th>1925-04-30</th>\n",
       "      <td>-0.006042</td>\n",
       "      <td>0.004357</td>\n",
       "      <td>0.100875</td>\n",
       "      <td>0.280609</td>\n",
       "      <td>0.055658</td>\n",
       "      <td>0.031812</td>\n",
       "      <td>0.038150</td>\n",
       "    </tr>\n",
       "  </tbody>\n",
       "</table>\n",
       "</div>"
      ],
      "text/plain": [
       "             Stk_ret   Bnd_ret     Value  Momentum_stk  Momentum_bnd  \\\n",
       "Date                                                                   \n",
       "1924-12-31  0.058696  0.004539  0.091535      0.261498      0.057413   \n",
       "1925-01-31  0.045884  0.004527  0.090425      0.271165      0.056547   \n",
       "1925-02-28  0.012904  0.004379  0.092156      0.275372      0.056249   \n",
       "1925-03-31 -0.021849  0.004368  0.097209      0.265398      0.055953   \n",
       "1925-04-30 -0.006042  0.004357  0.100875      0.280609      0.055658   \n",
       "\n",
       "              Growth     Yield  \n",
       "Date                            \n",
       "1924-12-31  0.000000  0.038767  \n",
       "1925-01-31  0.008029  0.038600  \n",
       "1925-02-28  0.015994  0.038450  \n",
       "1925-03-31  0.023900  0.038300  \n",
       "1925-04-30  0.031812  0.038150  "
      ]
     },
     "execution_count": 10,
     "metadata": {},
     "output_type": "execute_result"
    }
   ],
   "source": [
    "df_lstm = import_data_lstm()\n",
    "df_lstm = df_lstm.loc[df_lstm.index > start_date]\n",
    "df_lstm.head()"
   ]
  },
  {
   "cell_type": "code",
   "execution_count": 11,
   "id": "e229f5d6",
   "metadata": {},
   "outputs": [
    {
     "data": {
      "text/html": [
       "<div>\n",
       "<style scoped>\n",
       "    .dataframe tbody tr th:only-of-type {\n",
       "        vertical-align: middle;\n",
       "    }\n",
       "\n",
       "    .dataframe tbody tr th {\n",
       "        vertical-align: top;\n",
       "    }\n",
       "\n",
       "    .dataframe thead th {\n",
       "        text-align: right;\n",
       "    }\n",
       "</style>\n",
       "<table border=\"1\" class=\"dataframe\">\n",
       "  <thead>\n",
       "    <tr style=\"text-align: right;\">\n",
       "      <th></th>\n",
       "      <th>count</th>\n",
       "      <th>mean</th>\n",
       "      <th>std</th>\n",
       "      <th>min</th>\n",
       "      <th>25%</th>\n",
       "      <th>50%</th>\n",
       "      <th>75%</th>\n",
       "      <th>max</th>\n",
       "    </tr>\n",
       "  </thead>\n",
       "  <tbody>\n",
       "    <tr>\n",
       "      <th>Stk_ret</th>\n",
       "      <td>1165.0</td>\n",
       "      <td>0.009432</td>\n",
       "      <td>0.044423</td>\n",
       "      <td>-0.261879</td>\n",
       "      <td>-0.009918</td>\n",
       "      <td>0.012961</td>\n",
       "      <td>0.032561</td>\n",
       "      <td>0.513085</td>\n",
       "    </tr>\n",
       "    <tr>\n",
       "      <th>Bnd_ret</th>\n",
       "      <td>1165.0</td>\n",
       "      <td>0.004142</td>\n",
       "      <td>0.015248</td>\n",
       "      <td>-0.080542</td>\n",
       "      <td>-0.001424</td>\n",
       "      <td>0.002906</td>\n",
       "      <td>0.009154</td>\n",
       "      <td>0.105548</td>\n",
       "    </tr>\n",
       "    <tr>\n",
       "      <th>Value</th>\n",
       "      <td>1165.0</td>\n",
       "      <td>0.069624</td>\n",
       "      <td>0.028530</td>\n",
       "      <td>0.008082</td>\n",
       "      <td>0.051409</td>\n",
       "      <td>0.060862</td>\n",
       "      <td>0.086094</td>\n",
       "      <td>0.171797</td>\n",
       "    </tr>\n",
       "    <tr>\n",
       "      <th>Momentum_stk</th>\n",
       "      <td>1165.0</td>\n",
       "      <td>0.126156</td>\n",
       "      <td>0.204124</td>\n",
       "      <td>-0.622834</td>\n",
       "      <td>0.007803</td>\n",
       "      <td>0.136464</td>\n",
       "      <td>0.252546</td>\n",
       "      <td>1.398059</td>\n",
       "    </tr>\n",
       "    <tr>\n",
       "      <th>Momentum_bnd</th>\n",
       "      <td>1165.0</td>\n",
       "      <td>0.051994</td>\n",
       "      <td>0.072471</td>\n",
       "      <td>-0.113205</td>\n",
       "      <td>0.014542</td>\n",
       "      <td>0.037885</td>\n",
       "      <td>0.077057</td>\n",
       "      <td>0.424480</td>\n",
       "    </tr>\n",
       "    <tr>\n",
       "      <th>Growth</th>\n",
       "      <td>1165.0</td>\n",
       "      <td>0.059567</td>\n",
       "      <td>0.102995</td>\n",
       "      <td>-0.333095</td>\n",
       "      <td>0.016012</td>\n",
       "      <td>0.059964</td>\n",
       "      <td>0.099845</td>\n",
       "      <td>0.711868</td>\n",
       "    </tr>\n",
       "    <tr>\n",
       "      <th>Yield</th>\n",
       "      <td>1165.0</td>\n",
       "      <td>0.047992</td>\n",
       "      <td>0.027953</td>\n",
       "      <td>0.006200</td>\n",
       "      <td>0.026342</td>\n",
       "      <td>0.038600</td>\n",
       "      <td>0.064800</td>\n",
       "      <td>0.153200</td>\n",
       "    </tr>\n",
       "  </tbody>\n",
       "</table>\n",
       "</div>"
      ],
      "text/plain": [
       "               count      mean       std       min       25%       50%  \\\n",
       "Stk_ret       1165.0  0.009432  0.044423 -0.261879 -0.009918  0.012961   \n",
       "Bnd_ret       1165.0  0.004142  0.015248 -0.080542 -0.001424  0.002906   \n",
       "Value         1165.0  0.069624  0.028530  0.008082  0.051409  0.060862   \n",
       "Momentum_stk  1165.0  0.126156  0.204124 -0.622834  0.007803  0.136464   \n",
       "Momentum_bnd  1165.0  0.051994  0.072471 -0.113205  0.014542  0.037885   \n",
       "Growth        1165.0  0.059567  0.102995 -0.333095  0.016012  0.059964   \n",
       "Yield         1165.0  0.047992  0.027953  0.006200  0.026342  0.038600   \n",
       "\n",
       "                   75%       max  \n",
       "Stk_ret       0.032561  0.513085  \n",
       "Bnd_ret       0.009154  0.105548  \n",
       "Value         0.086094  0.171797  \n",
       "Momentum_stk  0.252546  1.398059  \n",
       "Momentum_bnd  0.077057  0.424480  \n",
       "Growth        0.099845  0.711868  \n",
       "Yield         0.064800  0.153200  "
      ]
     },
     "execution_count": 11,
     "metadata": {},
     "output_type": "execute_result"
    }
   ],
   "source": [
    "df_lstm.describe().T"
   ]
  },
  {
   "cell_type": "markdown",
   "id": "10f52c6e",
   "metadata": {},
   "source": [
    "# 2. Process Data"
   ]
  },
  {
   "cell_type": "markdown",
   "id": "4e7e1d39",
   "metadata": {},
   "source": [
    "## 2a. Feedforward Dataset"
   ]
  },
  {
   "cell_type": "markdown",
   "id": "e3af203a",
   "metadata": {},
   "source": [
    "#### Split data"
   ]
  },
  {
   "cell_type": "code",
   "execution_count": 12,
   "id": "6fe3e7d3",
   "metadata": {},
   "outputs": [],
   "source": [
    "X = df.iloc[:,2:]         # factors\n",
    "y = df.iloc[:,:2]         # returns\n",
    "\n",
    "fraction_test = 0.2       # fraction of total dataset that is used for testing\n",
    "X_train, X_test, y_train, y_test = train_test_split(\n",
    "    X, y, test_size=fraction_test, shuffle=False)"
   ]
  },
  {
   "cell_type": "markdown",
   "id": "9cf4147e",
   "metadata": {},
   "source": [
    "#### Scale Data"
   ]
  },
  {
   "cell_type": "code",
   "execution_count": 13,
   "id": "6195dc75",
   "metadata": {},
   "outputs": [],
   "source": [
    "scaler_X = StandardScaler()\n",
    "\n",
    "X_train_scaled = scaler_X.fit_transform(X_train)\n",
    "X_test_scaled = scaler_X.transform(X_test)\n"
   ]
  },
  {
   "cell_type": "code",
   "execution_count": 14,
   "id": "05f651e5",
   "metadata": {},
   "outputs": [
    {
     "data": {
      "text/plain": [
       "array([ 4.88450431e-16,  3.24361614e-17, -6.10563038e-17,  1.52640760e-17,\n",
       "       -1.22112608e-16])"
      ]
     },
     "execution_count": 14,
     "metadata": {},
     "output_type": "execute_result"
    }
   ],
   "source": [
    "X_train_scaled.mean(axis=0)"
   ]
  },
  {
   "cell_type": "markdown",
   "id": "67d767a0",
   "metadata": {},
   "source": [
    "## 2b. CNN and LSTM Dataset"
   ]
  },
  {
   "cell_type": "markdown",
   "id": "e1f0f1d7",
   "metadata": {},
   "source": [
    "#### Create Sequences"
   ]
  },
  {
   "cell_type": "code",
   "execution_count": 15,
   "id": "e50a8ffa",
   "metadata": {},
   "outputs": [],
   "source": [
    "X_lstm = []\n",
    "y_lstm_stk = []\n",
    "y_lstm_bnd = []\n",
    "win_len = 12\n",
    "num_factors = df.shape[1]\n",
    "for i in range(win_len, len(df)):\n",
    "    X_lstm.append(df.iloc[i-win_len:i,2:])\n",
    "    y_lstm_stk.append(df.iloc[i,0])\n",
    "    y_lstm_bnd.append(df.iloc[i,1])"
   ]
  },
  {
   "cell_type": "markdown",
   "id": "3ea0df2d",
   "metadata": {},
   "source": [
    "#### Convert to Numpy arrays"
   ]
  },
  {
   "cell_type": "code",
   "execution_count": 16,
   "id": "29c274c0",
   "metadata": {
    "scrolled": true
   },
   "outputs": [],
   "source": [
    "X_lstm, y_lstm_stk, y_lstm_bnd = np.array(X_lstm), np.array(y_lstm_stk), np.array(y_lstm_bnd)"
   ]
  },
  {
   "cell_type": "code",
   "execution_count": 17,
   "id": "40c29fef",
   "metadata": {},
   "outputs": [],
   "source": [
    "y_lstm_stk = y_lstm_stk.reshape(-1,1)\n",
    "y_lstm_bnd = y_lstm_bnd.reshape(-1,1)"
   ]
  },
  {
   "cell_type": "code",
   "execution_count": 18,
   "id": "5f6ed130",
   "metadata": {
    "scrolled": true
   },
   "outputs": [
    {
     "data": {
      "text/plain": [
       "(1152, 12, 5)"
      ]
     },
     "execution_count": 18,
     "metadata": {},
     "output_type": "execute_result"
    }
   ],
   "source": [
    "X_lstm.shape"
   ]
  },
  {
   "cell_type": "code",
   "execution_count": 19,
   "id": "723a0a7e",
   "metadata": {},
   "outputs": [
    {
     "data": {
      "text/plain": [
       "(1152, 1)"
      ]
     },
     "execution_count": 19,
     "metadata": {},
     "output_type": "execute_result"
    }
   ],
   "source": [
    "y_lstm_stk.shape"
   ]
  },
  {
   "cell_type": "markdown",
   "id": "93e5d4f1",
   "metadata": {},
   "source": [
    "#### Split data"
   ]
  },
  {
   "cell_type": "code",
   "execution_count": 20,
   "id": "e1527040",
   "metadata": {
    "scrolled": false
   },
   "outputs": [],
   "source": [
    "fraction_test = 0.2  # fraction of total dataset that is used for testing\n",
    "X_train_lstm, X_test_lstm, y_train_lstm_stk, y_test_lstm_stk, y_train_lstm_bnd, y_test_lstm_bnd = train_test_split(\n",
    "    X_lstm, y_lstm_stk, y_lstm_bnd, test_size=fraction_test, shuffle=False)"
   ]
  },
  {
   "cell_type": "markdown",
   "id": "8b9dd180",
   "metadata": {},
   "source": [
    "#### Scale Data"
   ]
  },
  {
   "cell_type": "code",
   "execution_count": 21,
   "id": "26ac27dd",
   "metadata": {},
   "outputs": [],
   "source": [
    "scaler_X_lstm = StandardScaler()\n",
    "\n",
    "X_train_lstm_scaled = scaler_X_lstm.fit_transform(\n",
    "    X_train_lstm.reshape(-1, X_train_lstm.shape[-1])).reshape(X_train_lstm.shape)\n",
    "X_test_lstm_scaled = scaler_X_lstm.transform(\n",
    "    X_test_lstm.reshape(-1, X_test_lstm.shape[-1])).reshape(X_test_lstm.shape)"
   ]
  },
  {
   "cell_type": "markdown",
   "id": "a303b116",
   "metadata": {},
   "source": [
    "# 3. Generate Expected Returns and Risks"
   ]
  },
  {
   "cell_type": "markdown",
   "id": "590aa514",
   "metadata": {},
   "source": [
    "## 3a. Linear regression model"
   ]
  },
  {
   "cell_type": "markdown",
   "id": "f3513f61",
   "metadata": {},
   "source": [
    "### Linear regression model for stock returns"
   ]
  },
  {
   "cell_type": "code",
   "execution_count": 22,
   "id": "00ad0dd2",
   "metadata": {},
   "outputs": [],
   "source": [
    "model_stk_reg = LinearRegression()"
   ]
  },
  {
   "cell_type": "code",
   "execution_count": 23,
   "id": "fb0f6cb3",
   "metadata": {},
   "outputs": [],
   "source": [
    "reg_stk = model_stk_reg.fit(X_train_scaled, y_train['Stk_ret'])"
   ]
  },
  {
   "cell_type": "markdown",
   "id": "c186cc8b",
   "metadata": {},
   "source": [
    "Coefficients"
   ]
  },
  {
   "cell_type": "code",
   "execution_count": 24,
   "id": "109cced3",
   "metadata": {
    "scrolled": true
   },
   "outputs": [
    {
     "data": {
      "text/plain": [
       "array([ 0.0063019 ,  0.0051174 ,  0.0055881 , -0.00145633, -0.00221203])"
      ]
     },
     "execution_count": 24,
     "metadata": {},
     "output_type": "execute_result"
    }
   ],
   "source": [
    "reg_stk.coef_"
   ]
  },
  {
   "cell_type": "markdown",
   "id": "0a8c6e47",
   "metadata": {},
   "source": [
    "Intercept"
   ]
  },
  {
   "cell_type": "code",
   "execution_count": 25,
   "id": "7900edab",
   "metadata": {
    "scrolled": true
   },
   "outputs": [
    {
     "data": {
      "text/plain": [
       "0.00939240462205837"
      ]
     },
     "execution_count": 25,
     "metadata": {},
     "output_type": "execute_result"
    }
   ],
   "source": [
    "reg_stk.intercept_"
   ]
  },
  {
   "cell_type": "markdown",
   "id": "1e7600b2",
   "metadata": {},
   "source": [
    "#### Generate expected returns for stocks"
   ]
  },
  {
   "cell_type": "code",
   "execution_count": 26,
   "id": "bfaab34a",
   "metadata": {},
   "outputs": [
    {
     "name": "stderr",
     "output_type": "stream",
     "text": [
      "<ipython-input-26-bf54e1584d76>:1: SettingWithCopyWarning: \n",
      "A value is trying to be set on a copy of a slice from a DataFrame.\n",
      "Try using .loc[row_indexer,col_indexer] = value instead\n",
      "\n",
      "See the caveats in the documentation: https://pandas.pydata.org/pandas-docs/stable/user_guide/indexing.html#returning-a-view-versus-a-copy\n",
      "  y_train['Stk_ret_reg'] = reg_stk.predict(X_train_scaled)\n",
      "<ipython-input-26-bf54e1584d76>:2: SettingWithCopyWarning: \n",
      "A value is trying to be set on a copy of a slice from a DataFrame.\n",
      "Try using .loc[row_indexer,col_indexer] = value instead\n",
      "\n",
      "See the caveats in the documentation: https://pandas.pydata.org/pandas-docs/stable/user_guide/indexing.html#returning-a-view-versus-a-copy\n",
      "  y_test['Stk_ret_reg'] = reg_stk.predict(X_test_scaled)\n"
     ]
    }
   ],
   "source": [
    "y_train['Stk_ret_reg'] = reg_stk.predict(X_train_scaled)\n",
    "y_test['Stk_ret_reg'] = reg_stk.predict(X_test_scaled)"
   ]
  },
  {
   "cell_type": "markdown",
   "id": "ce43925e",
   "metadata": {},
   "source": [
    "#### Evaluate accuracy"
   ]
  },
  {
   "cell_type": "code",
   "execution_count": 27,
   "id": "b06f8362",
   "metadata": {
    "scrolled": true
   },
   "outputs": [
    {
     "name": "stdout",
     "output_type": "stream",
     "text": [
      "The R-Square on the Train set is:\t0.035\n",
      "The R-Square on the Test set is:\t-0.033\n"
     ]
    }
   ],
   "source": [
    "print(\"The R-Square on the Train set is:\\t{:0.3f}\".format(r2_score(y_train['Stk_ret'], y_train['Stk_ret_reg'])))\n",
    "print(\"The R-Square on the Test set is:\\t{:0.3f}\".format(r2_score(y_test['Stk_ret'], y_test['Stk_ret_reg'])))"
   ]
  },
  {
   "cell_type": "code",
   "execution_count": 28,
   "id": "e96239dd",
   "metadata": {
    "scrolled": true
   },
   "outputs": [
    {
     "data": {
      "image/png": "[encoded data removed]",
      "text/plain": [
       "<Figure size 576x288 with 1 Axes>"
      ]
     },
     "metadata": {
      "needs_background": "light"
     },
     "output_type": "display_data"
    }
   ],
   "source": [
    "plt.figure(figsize=(8, 4))\n",
    "plt.scatter(y_test['Stk_ret'], y_test['Stk_ret_reg'])\n",
    "plt.suptitle('Stock Market Returns', y=1.02, fontsize=20)\n",
    "plt.title('Monthly (Percent)')\n",
    "plt.xlabel('Actual Returns', fontsize=12)\n",
    "plt.ylabel('Predicted Returns', fontsize=12)\n",
    "plt.show()"
   ]
  },
  {
   "cell_type": "markdown",
   "id": "2c7d373c",
   "metadata": {},
   "source": [
    "### Linear regression model for bond returns"
   ]
  },
  {
   "cell_type": "code",
   "execution_count": 29,
   "id": "e52b2d39",
   "metadata": {},
   "outputs": [],
   "source": [
    "model_bnd_reg = LinearRegression()"
   ]
  },
  {
   "cell_type": "code",
   "execution_count": 30,
   "id": "9b3dbb86",
   "metadata": {},
   "outputs": [],
   "source": [
    "reg_bnd = model_bnd_reg.fit(X_train_scaled, y_train['Bnd_ret'])"
   ]
  },
  {
   "cell_type": "markdown",
   "id": "1af6f127",
   "metadata": {},
   "source": [
    "Coefficients"
   ]
  },
  {
   "cell_type": "code",
   "execution_count": 31,
   "id": "923b1d15",
   "metadata": {
    "scrolled": true
   },
   "outputs": [
    {
     "data": {
      "text/plain": [
       "array([ 0.0001087 , -0.0011193 ,  0.00177348, -0.00014315,  0.00244546])"
      ]
     },
     "execution_count": 31,
     "metadata": {},
     "output_type": "execute_result"
    }
   ],
   "source": [
    "reg_bnd.coef_"
   ]
  },
  {
   "cell_type": "markdown",
   "id": "82a3d2c7",
   "metadata": {},
   "source": [
    "Intercept"
   ]
  },
  {
   "cell_type": "code",
   "execution_count": 32,
   "id": "a59a35e8",
   "metadata": {
    "scrolled": true
   },
   "outputs": [
    {
     "data": {
      "text/plain": [
       "0.004261369157107023"
      ]
     },
     "execution_count": 32,
     "metadata": {},
     "output_type": "execute_result"
    }
   ],
   "source": [
    "reg_bnd.intercept_"
   ]
  },
  {
   "cell_type": "markdown",
   "id": "6a5d1c67",
   "metadata": {},
   "source": [
    "#### Generate expected returns for bonds"
   ]
  },
  {
   "cell_type": "code",
   "execution_count": 33,
   "id": "dad4d361",
   "metadata": {},
   "outputs": [
    {
     "name": "stderr",
     "output_type": "stream",
     "text": [
      "<ipython-input-33-fc5886cf76f4>:1: SettingWithCopyWarning: \n",
      "A value is trying to be set on a copy of a slice from a DataFrame.\n",
      "Try using .loc[row_indexer,col_indexer] = value instead\n",
      "\n",
      "See the caveats in the documentation: https://pandas.pydata.org/pandas-docs/stable/user_guide/indexing.html#returning-a-view-versus-a-copy\n",
      "  y_train['Bnd_ret_reg'] = reg_bnd.predict(X_train_scaled)\n",
      "<ipython-input-33-fc5886cf76f4>:2: SettingWithCopyWarning: \n",
      "A value is trying to be set on a copy of a slice from a DataFrame.\n",
      "Try using .loc[row_indexer,col_indexer] = value instead\n",
      "\n",
      "See the caveats in the documentation: https://pandas.pydata.org/pandas-docs/stable/user_guide/indexing.html#returning-a-view-versus-a-copy\n",
      "  y_test['Bnd_ret_reg'] = reg_bnd.predict(X_test_scaled)\n"
     ]
    }
   ],
   "source": [
    "y_train['Bnd_ret_reg'] = reg_bnd.predict(X_train_scaled)\n",
    "y_test['Bnd_ret_reg'] = reg_bnd.predict(X_test_scaled)"
   ]
  },
  {
   "cell_type": "markdown",
   "id": "36c052fa",
   "metadata": {},
   "source": [
    "#### Evaluate accuracy"
   ]
  },
  {
   "cell_type": "code",
   "execution_count": 34,
   "id": "25e99e34",
   "metadata": {
    "scrolled": true
   },
   "outputs": [
    {
     "name": "stdout",
     "output_type": "stream",
     "text": [
      "The R-Square on the Train set is:\t0.057\n",
      "The R-Square on the Test set is:\t-0.004\n"
     ]
    }
   ],
   "source": [
    "print(\"The R-Square on the Train set is:\\t{:0.3f}\".format(r2_score(y_train['Bnd_ret'], y_train['Bnd_ret_reg'])))\n",
    "print(\"The R-Square on the Test set is:\\t{:0.3f}\".format(r2_score(y_test['Bnd_ret'], y_test['Bnd_ret_reg'])))"
   ]
  },
  {
   "cell_type": "code",
   "execution_count": 35,
   "id": "653c60d3",
   "metadata": {
    "scrolled": false
   },
   "outputs": [
    {
     "data": {
      "image/png": "[encoded data removed]",
      "text/plain": [
       "<Figure size 576x288 with 1 Axes>"
      ]
     },
     "metadata": {
      "needs_background": "light"
     },
     "output_type": "display_data"
    }
   ],
   "source": [
    "plt.figure(figsize=(8, 4))\n",
    "plt.scatter(y_test['Bnd_ret'], y_test['Bnd_ret_reg'])\n",
    "plt.suptitle('Bond Market Returns', y=1.02, fontsize=20)\n",
    "plt.title('Monthly (Percent)')\n",
    "plt.xlabel('Actual Returns', fontsize=12)\n",
    "plt.ylabel('Predicted Returns', fontsize=12)\n",
    "plt.show()"
   ]
  },
  {
   "cell_type": "markdown",
   "id": "5857651e",
   "metadata": {},
   "source": [
    "## 3b. Feedforward Neural Network"
   ]
  },
  {
   "cell_type": "markdown",
   "id": "948f8d3a",
   "metadata": {},
   "source": [
    "####  <font color='blue'>*Feed Forward Model function*</font>"
   ]
  },
  {
   "cell_type": "code",
   "execution_count": 42,
   "id": "083b0779",
   "metadata": {},
   "outputs": [],
   "source": [
    "def feed_forward_model(X_train, y_train, learning_rate, epochs):\n",
    "    # Model structure\n",
    "    model = Sequential()\n",
    "    model.add(Dense(200, input_dim=X_train.shape[1], activation='relu'))\n",
    "    model.add(Dropout(0.3))\n",
    "    model.add(Dense(100, activation='relu'))\n",
    "    model.add(Dropout(0.3))\n",
    "    model.add(Dense(50, activation='relu'))\n",
    "    model.add(Dropout(0.3))\n",
    "    model.add(Dense(25, activation='relu'))\n",
    "    model.add(Dense(1,))\n",
    "    # Compile model\n",
    "    model.compile(Adam(learning_rate=learning_rate), 'mean_squared_error')\n",
    "    # Train (fit) model\n",
    "    history = model.fit(X_train, y_train, \n",
    "                    epochs = epochs, \n",
    "                    validation_split = 0.2,\n",
    "                    verbose = 0)\n",
    "    return model, history"
   ]
  },
  {
   "cell_type": "markdown",
   "id": "39bcb771",
   "metadata": {},
   "source": [
    "### Feed Forward model for stock returns"
   ]
  },
  {
   "cell_type": "code",
   "execution_count": 43,
   "id": "d90657b4",
   "metadata": {},
   "outputs": [],
   "source": [
    "learning_rate=0.001 \n",
    "epochs=100\n",
    "model_stk_dl, history = feed_forward_model(X_train_scaled, y_train.Stk_ret, learning_rate, epochs)"
   ]
  },
  {
   "cell_type": "code",
   "execution_count": 44,
   "id": "4ea427d5",
   "metadata": {
    "scrolled": true
   },
   "outputs": [
    {
     "data": {
      "image/png": "[encoded data removed]",
      "text/plain": [
       "<Figure size 576x288 with 1 Axes>"
      ]
     },
     "metadata": {
      "needs_background": "light"
     },
     "output_type": "display_data"
    }
   ],
   "source": [
    "# Plot of learning progress\n",
    "history_dict=history.history\n",
    "loss_values = history_dict['loss']\n",
    "val_loss_values=history_dict['val_loss']\n",
    "plt.figure(figsize=(8, 4))\n",
    "plt.plot(loss_values,'bo',label='training loss')\n",
    "plt.plot(val_loss_values,'r',label='training loss validation')\n",
    "plt.title('Learning Progress', fontsize=20)\n",
    "plt.xlabel('Epochs')\n",
    "plt.ylabel('Loss')\n",
    "plt.legend()\n",
    "plt.show()"
   ]
  },
  {
   "cell_type": "markdown",
   "id": "496f1df9",
   "metadata": {},
   "source": [
    "#### Generate expected returns for stocks"
   ]
  },
  {
   "cell_type": "code",
   "execution_count": 45,
   "id": "1818b4e3",
   "metadata": {
    "scrolled": true
   },
   "outputs": [
    {
     "name": "stdout",
     "output_type": "stream",
     "text": [
      "30/30 [==============================] - 0s 2ms/step\n",
      "8/8 [==============================] - 0s 2ms/step\n"
     ]
    },
    {
     "name": "stderr",
     "output_type": "stream",
     "text": [
      "<ipython-input-45-284bdb0d5135>:1: SettingWithCopyWarning: \n",
      "A value is trying to be set on a copy of a slice from a DataFrame.\n",
      "Try using .loc[row_indexer,col_indexer] = value instead\n",
      "\n",
      "See the caveats in the documentation: https://pandas.pydata.org/pandas-docs/stable/user_guide/indexing.html#returning-a-view-versus-a-copy\n",
      "  y_train['Stk_ret_dl'] = model_stk_dl.predict(X_train_scaled)\n",
      "<ipython-input-45-284bdb0d5135>:2: SettingWithCopyWarning: \n",
      "A value is trying to be set on a copy of a slice from a DataFrame.\n",
      "Try using .loc[row_indexer,col_indexer] = value instead\n",
      "\n",
      "See the caveats in the documentation: https://pandas.pydata.org/pandas-docs/stable/user_guide/indexing.html#returning-a-view-versus-a-copy\n",
      "  y_test['Stk_ret_dl'] = model_stk_dl.predict(X_test_scaled)\n"
     ]
    }
   ],
   "source": [
    "y_train['Stk_ret_dl'] = model_stk_dl.predict(X_train_scaled)\n",
    "y_test['Stk_ret_dl'] = model_stk_dl.predict(X_test_scaled)"
   ]
  },
  {
   "cell_type": "markdown",
   "id": "b15abdd9",
   "metadata": {},
   "source": [
    "#### Evaluate accuracy"
   ]
  },
  {
   "cell_type": "code",
   "execution_count": 46,
   "id": "231c7cf3",
   "metadata": {
    "scrolled": true
   },
   "outputs": [
    {
     "name": "stdout",
     "output_type": "stream",
     "text": [
      "The R2 score on the Train set is:\t0.113\n",
      "The R2 score on the Test set is:\t-0.726\n"
     ]
    }
   ],
   "source": [
    "print(\"The R2 score on the Train set is:\\t{:0.3f}\".format(r2_score(y_train['Stk_ret'], y_train['Stk_ret_dl'])))\n",
    "print(\"The R2 score on the Test set is:\\t{:0.3f}\".format(r2_score(y_test['Stk_ret'], y_test['Stk_ret_dl'])))"
   ]
  },
  {
   "cell_type": "code",
   "execution_count": 47,
   "id": "0d3c65a9",
   "metadata": {
    "scrolled": true
   },
   "outputs": [
    {
     "data": {
      "image/png": "[encoded data removed]",
      "text/plain": [
       "<Figure size 576x288 with 1 Axes>"
      ]
     },
     "metadata": {
      "needs_background": "light"
     },
     "output_type": "display_data"
    }
   ],
   "source": [
    "plt.figure(figsize=(8, 4))\n",
    "plt.scatter(y_test['Stk_ret'], y_test['Stk_ret_dl'])\n",
    "plt.suptitle('Stock Market Returns', y=1.02, fontsize=20)\n",
    "plt.title('Monthly (Percent)')\n",
    "plt.xlabel('Actual Returns', fontsize=12)\n",
    "plt.ylabel('Predicted Returns', fontsize=12)\n",
    "plt.show()"
   ]
  },
  {
   "cell_type": "markdown",
   "id": "ec77294b",
   "metadata": {},
   "source": [
    "### Feed Forward model for bond returns"
   ]
  },
  {
   "cell_type": "code",
   "execution_count": 48,
   "id": "da28258c",
   "metadata": {},
   "outputs": [],
   "source": [
    "model_bnd_dl, history = feed_forward_model(X_train_scaled, y_train.Bnd_ret, learning_rate=learning_rate, epochs=epochs)"
   ]
  },
  {
   "cell_type": "code",
   "execution_count": 49,
   "id": "368603c6",
   "metadata": {
    "scrolled": true
   },
   "outputs": [
    {
     "data": {
      "image/png": "[encoded data removed]",
      "text/plain": [
       "<Figure size 576x288 with 1 Axes>"
      ]
     },
     "metadata": {
      "needs_background": "light"
     },
     "output_type": "display_data"
    }
   ],
   "source": [
    "# Plots learning progress\n",
    "history_dict=history.history\n",
    "loss_values = history_dict['loss']\n",
    "val_loss_values=history_dict['val_loss']\n",
    "plt.figure(figsize=(8, 4))\n",
    "plt.plot(loss_values,'bo',label='training loss')\n",
    "plt.plot(val_loss_values,'r',label='training loss validation')\n",
    "plt.title('Learning Progress', fontsize=20)\n",
    "plt.xlabel('Epochs')\n",
    "plt.ylabel('Loss')\n",
    "plt.legend()\n",
    "plt.show()"
   ]
  },
  {
   "cell_type": "markdown",
   "id": "a420125f",
   "metadata": {},
   "source": [
    "#### Generate expected returns for bonds"
   ]
  },
  {
   "cell_type": "code",
   "execution_count": 50,
   "id": "f54df393",
   "metadata": {
    "scrolled": true
   },
   "outputs": [
    {
     "name": "stdout",
     "output_type": "stream",
     "text": [
      "30/30 [==============================] - 0s 2ms/step\n",
      "8/8 [==============================] - 0s 2ms/step\n"
     ]
    },
    {
     "name": "stderr",
     "output_type": "stream",
     "text": [
      "<ipython-input-50-7387e72a8c6a>:1: SettingWithCopyWarning: \n",
      "A value is trying to be set on a copy of a slice from a DataFrame.\n",
      "Try using .loc[row_indexer,col_indexer] = value instead\n",
      "\n",
      "See the caveats in the documentation: https://pandas.pydata.org/pandas-docs/stable/user_guide/indexing.html#returning-a-view-versus-a-copy\n",
      "  y_train['Bnd_ret_dl'] = model_bnd_dl.predict(X_train_scaled)\n",
      "<ipython-input-50-7387e72a8c6a>:2: SettingWithCopyWarning: \n",
      "A value is trying to be set on a copy of a slice from a DataFrame.\n",
      "Try using .loc[row_indexer,col_indexer] = value instead\n",
      "\n",
      "See the caveats in the documentation: https://pandas.pydata.org/pandas-docs/stable/user_guide/indexing.html#returning-a-view-versus-a-copy\n",
      "  y_test['Bnd_ret_dl'] = model_bnd_dl.predict(X_test_scaled)\n"
     ]
    }
   ],
   "source": [
    "y_train['Bnd_ret_dl'] = model_bnd_dl.predict(X_train_scaled)\n",
    "y_test['Bnd_ret_dl'] = model_bnd_dl.predict(X_test_scaled)\n"
   ]
  },
  {
   "cell_type": "markdown",
   "id": "a904afed",
   "metadata": {},
   "source": [
    "#### Evaluate accuracy"
   ]
  },
  {
   "cell_type": "code",
   "execution_count": 51,
   "id": "6a6f87a6",
   "metadata": {
    "scrolled": true
   },
   "outputs": [
    {
     "name": "stdout",
     "output_type": "stream",
     "text": [
      "The R2 score on the Train set is:\t0.065\n",
      "The R2 score on the Test set is:\t-0.001\n"
     ]
    }
   ],
   "source": [
    "print(\"The R2 score on the Train set is:\\t{:0.3f}\".format(r2_score(y_train['Bnd_ret'], y_train['Bnd_ret_dl'])))\n",
    "print(\"The R2 score on the Test set is:\\t{:0.3f}\".format(r2_score(y_test['Bnd_ret'], y_test['Bnd_ret_dl'])))"
   ]
  },
  {
   "cell_type": "code",
   "execution_count": 52,
   "id": "3ee67ac7",
   "metadata": {
    "scrolled": false
   },
   "outputs": [
    {
     "data": {
      "image/png": "[encoded data removed]",
      "text/plain": [
       "<Figure size 576x288 with 1 Axes>"
      ]
     },
     "metadata": {
      "needs_background": "light"
     },
     "output_type": "display_data"
    }
   ],
   "source": [
    "plt.figure(figsize=(8, 4))\n",
    "plt.scatter(y_test['Bnd_ret'], y_test['Bnd_ret_dl'])\n",
    "plt.suptitle('Bond Market Returns', y=1.02, fontsize=20)\n",
    "plt.title('Monthly (Percent)')\n",
    "plt.xlabel('Actual Returns', fontsize=12)\n",
    "plt.ylabel('Predicted Returns', fontsize=12)\n",
    "plt.show()"
   ]
  },
  {
   "cell_type": "markdown",
   "id": "ba93dd1e",
   "metadata": {},
   "source": [
    "## 3c. CNN + LSTM models"
   ]
  },
  {
   "cell_type": "markdown",
   "id": "692fca59",
   "metadata": {},
   "source": [
    "#### <font color='blue'>*CNN Model function*</font>"
   ]
  },
  {
   "cell_type": "code",
   "execution_count": 59,
   "id": "31dd3238",
   "metadata": {},
   "outputs": [],
   "source": [
    "def cnn_model(X_train, y_train, learning_rate, epochs):\n",
    "    # Model structure   \n",
    "    model = Sequential()\n",
    "    \n",
    "    # CNN\n",
    "    model.add(Conv1D(filters=128, kernel_size=3, dilation_rate=2,\n",
    "                         activation='relu', input_shape=(win_len, num_factors-2)))\n",
    "    model.add(Conv1D(filters=64, kernel_size=3, dilation_rate=1, activation='relu'))\n",
    "    model.add(MaxPooling1D(pool_size=3))\n",
    "    model.add(Dropout(0.3))\n",
    "    \n",
    "    # LSTM\n",
    "    model.add(LSTM(25, activation='relu', return_sequences=True))\n",
    "    model.add(Dropout(0.3))\n",
    "    model.add(Flatten())\n",
    "    \n",
    "    # Feed Forward\n",
    "    model.add(Dense(1))\n",
    "    \n",
    "    # Compile model\n",
    "    model.compile(Adam(learning_rate=learning_rate), 'mse')\n",
    "    \n",
    "    # Train (fit) model\n",
    "    history = model.fit(X_train, y_train, \n",
    "                    epochs = epochs, \n",
    "                    validation_split = 0.2,\n",
    "                    verbose = 0)\n",
    "    return model, history"
   ]
  },
  {
   "cell_type": "markdown",
   "id": "5184b949",
   "metadata": {},
   "source": [
    "### CNN + LSTM model for stock returns"
   ]
  },
  {
   "cell_type": "code",
   "execution_count": 60,
   "id": "d05b8b32",
   "metadata": {},
   "outputs": [],
   "source": [
    "learning_rate=0.001\n",
    "epochs=150\n",
    "\n",
    "model_lstm_stk, history = cnn_model(X_train_lstm_scaled, y_train_lstm_stk, learning_rate, epochs)"
   ]
  },
  {
   "cell_type": "code",
   "execution_count": 61,
   "id": "240420f5",
   "metadata": {
    "scrolled": true
   },
   "outputs": [
    {
     "data": {
      "image/png": "[encoded data removed]",
      "text/plain": [
       "<Figure size 576x288 with 1 Axes>"
      ]
     },
     "metadata": {
      "needs_background": "light"
     },
     "output_type": "display_data"
    }
   ],
   "source": [
    "# Plots learning progress\n",
    "history_dict=history.history\n",
    "loss_values = history_dict['loss']\n",
    "val_loss_values=history_dict['val_loss']\n",
    "plt.figure(figsize=(8, 4))\n",
    "plt.plot(loss_values,'bo',label='training loss')\n",
    "plt.plot(val_loss_values,'r',label='training loss validation')\n",
    "plt.title('Learning Progress', fontsize=20)\n",
    "plt.xlabel('Epochs')\n",
    "plt.ylabel('Loss')\n",
    "plt.legend()\n",
    "plt.show()"
   ]
  },
  {
   "cell_type": "markdown",
   "id": "df506c3e",
   "metadata": {},
   "source": [
    "#### Generate expected returns for stocks"
   ]
  },
  {
   "cell_type": "code",
   "execution_count": 62,
   "id": "a8249329",
   "metadata": {
    "scrolled": true
   },
   "outputs": [
    {
     "name": "stdout",
     "output_type": "stream",
     "text": [
      "29/29 [==============================] - 0s 7ms/step\n",
      "8/8 [==============================] - 0s 3ms/step\n"
     ]
    }
   ],
   "source": [
    "y_train_lstm_stk_pred = model_lstm_stk.predict(X_train_lstm_scaled)\n",
    "y_test_lstm_stk_pred = model_lstm_stk.predict(X_test_lstm_scaled)"
   ]
  },
  {
   "cell_type": "markdown",
   "id": "0e08f25c",
   "metadata": {},
   "source": [
    "#### Evaluate accuracy"
   ]
  },
  {
   "cell_type": "code",
   "execution_count": 63,
   "id": "3803f50e",
   "metadata": {
    "scrolled": true
   },
   "outputs": [
    {
     "name": "stdout",
     "output_type": "stream",
     "text": [
      "The R2 score on the Train set is:\t0.527\n",
      "The R2 score on the Test set is:\t-0.252\n"
     ]
    }
   ],
   "source": [
    "print(\"The R2 score on the Train set is:\\t{:0.3f}\".format(r2_score(y_train_lstm_stk, y_train_lstm_stk_pred)))\n",
    "print(\"The R2 score on the Test set is:\\t{:0.3f}\".format(r2_score(y_test_lstm_stk, y_test_lstm_stk_pred)))"
   ]
  },
  {
   "cell_type": "code",
   "execution_count": 64,
   "id": "31195415",
   "metadata": {
    "scrolled": true
   },
   "outputs": [
    {
     "data": {
      "image/png": "[encoded data removed]",
      "text/plain": [
       "<Figure size 576x288 with 1 Axes>"
      ]
     },
     "metadata": {
      "needs_background": "light"
     },
     "output_type": "display_data"
    }
   ],
   "source": [
    "plt.figure(figsize=(8, 4))\n",
    "plt.scatter(y_test_lstm_stk, y_test_lstm_stk_pred)\n",
    "plt.suptitle('Stock Market Returns', y=1.02, fontsize=20)\n",
    "plt.title('Monthly (Percent)')\n",
    "plt.xlabel('Actual Returns', fontsize=12)\n",
    "plt.ylabel('Predicted Returns', fontsize=12)\n",
    "plt.show()"
   ]
  },
  {
   "cell_type": "markdown",
   "id": "6c2b664a",
   "metadata": {},
   "source": [
    "### Pure LSTM model for bond returns"
   ]
  },
  {
   "cell_type": "code",
   "execution_count": 65,
   "id": "fdb32921",
   "metadata": {},
   "outputs": [],
   "source": [
    "def lstm_model_bond(X_train, y_train, learning_rate, epochs):\n",
    "    # Model structure   \n",
    "    model = Sequential()\n",
    "    model.add(LSTM(50, input_shape= (win_len, num_factors-2), activation='relu', return_sequences=True))\n",
    "    model.add(Dropout(0.3))  \n",
    "    model.add(LSTM(25, activation='relu', return_sequences=False))\n",
    "    model.add(Dense(1))\n",
    "    \n",
    "    # Compile model\n",
    "    model.compile(Adam(learning_rate=learning_rate), 'mse')\n",
    "    \n",
    "    # Train (fit) model\n",
    "    history = model.fit(X_train, y_train, \n",
    "                    epochs = epochs, \n",
    "                    validation_split = 0.2,\n",
    "                    verbose = 0)\n",
    "    return model, history"
   ]
  },
  {
   "cell_type": "code",
   "execution_count": 66,
   "id": "f62ae144",
   "metadata": {},
   "outputs": [],
   "source": [
    "learning_rate=0.001\n",
    "epochs=150\n",
    "model_lstm_bnd, history = lstm_model_bond(X_train_lstm_scaled, y_train_lstm_bnd, learning_rate, epochs)"
   ]
  },
  {
   "cell_type": "code",
   "execution_count": 67,
   "id": "adb71d41",
   "metadata": {
    "scrolled": true
   },
   "outputs": [
    {
     "data": {
      "image/png": "[encoded data removed]",
      "text/plain": [
       "<Figure size 576x288 with 1 Axes>"
      ]
     },
     "metadata": {
      "needs_background": "light"
     },
     "output_type": "display_data"
    }
   ],
   "source": [
    "# Plots learning progress\n",
    "history_dict=history.history\n",
    "loss_values = history_dict['loss']\n",
    "val_loss_values=history_dict['val_loss']\n",
    "plt.figure(figsize=(8, 4))\n",
    "plt.plot(loss_values,'bo',label='training loss')\n",
    "plt.plot(val_loss_values,'r',label='training loss validation')\n",
    "plt.title('Learning Progress', fontsize=20)\n",
    "plt.xlabel('Epochs')\n",
    "plt.ylabel('Loss')\n",
    "plt.legend()\n",
    "plt.show()"
   ]
  },
  {
   "cell_type": "markdown",
   "id": "9140684f",
   "metadata": {},
   "source": [
    "#### Generate expected returns for bonds"
   ]
  },
  {
   "cell_type": "code",
   "execution_count": 69,
   "id": "2f4b781e",
   "metadata": {
    "scrolled": true
   },
   "outputs": [
    {
     "name": "stdout",
     "output_type": "stream",
     "text": [
      "29/29 [==============================] - 0s 5ms/step\n",
      "8/8 [==============================] - 0s 6ms/step\n"
     ]
    }
   ],
   "source": [
    "y_train_lstm_bnd_pred = model_lstm_bnd.predict(X_train_lstm_scaled)\n",
    "y_test_lstm_bnd_pred = model_lstm_bnd.predict(X_test_lstm_scaled)"
   ]
  },
  {
   "cell_type": "markdown",
   "id": "de3c6777",
   "metadata": {},
   "source": [
    "#### Evaluate accuracy"
   ]
  },
  {
   "cell_type": "code",
   "execution_count": 70,
   "id": "8ae2ef9d",
   "metadata": {
    "scrolled": true
   },
   "outputs": [
    {
     "name": "stdout",
     "output_type": "stream",
     "text": [
      "The R2 score on the Train set is:\t0.160\n",
      "The R2 score on the Test set is:\t-0.060\n"
     ]
    }
   ],
   "source": [
    "print(\"The R2 score on the Train set is:\\t{:0.3f}\".format(r2_score(y_train_lstm_bnd, y_train_lstm_bnd_pred)))\n",
    "print(\"The R2 score on the Test set is:\\t{:0.3f}\".format(r2_score(y_test_lstm_bnd, y_test_lstm_bnd_pred)))"
   ]
  },
  {
   "cell_type": "code",
   "execution_count": 71,
   "id": "2f798e02",
   "metadata": {
    "scrolled": true
   },
   "outputs": [
    {
     "data": {
      "image/png": "[encoded data removed]",
      "text/plain": [
       "<Figure size 576x288 with 1 Axes>"
      ]
     },
     "metadata": {
      "needs_background": "light"
     },
     "output_type": "display_data"
    }
   ],
   "source": [
    "plt.figure(figsize=(8, 4))\n",
    "plt.scatter(y_test_lstm_bnd, y_test_lstm_bnd_pred)\n",
    "plt.suptitle('Bond Market Returns', y=1.02, fontsize=20)\n",
    "plt.title('Monthly (Percent)')\n",
    "plt.xlabel('Actual Returns', fontsize=12)\n",
    "plt.ylabel('Predicted Returns', fontsize=12)\n",
    "plt.show()"
   ]
  },
  {
   "cell_type": "markdown",
   "id": "c7076421",
   "metadata": {},
   "source": [
    "## 3d. Generate Expected Risks"
   ]
  },
  {
   "cell_type": "code",
   "execution_count": 72,
   "id": "60564c4f",
   "metadata": {},
   "outputs": [
    {
     "name": "stdout",
     "output_type": "stream",
     "text": [
      "stk risk = 4.63%\n",
      "bnd risk = 1.46%\n"
     ]
    }
   ],
   "source": [
    "# Standard deviations\n",
    "stk_risk = np.std(y_train.Stk_ret)\n",
    "bnd_risk = np.std(y_train.Bnd_ret)\n",
    "print(f'stk risk = {stk_risk:.2%}')\n",
    "print(f'bnd risk = {bnd_risk:.2%}')"
   ]
  },
  {
   "cell_type": "code",
   "execution_count": 73,
   "id": "63accc89",
   "metadata": {
    "scrolled": true
   },
   "outputs": [
    {
     "name": "stdout",
     "output_type": "stream",
     "text": [
      "stock-bond correlation = 0.104\n"
     ]
    }
   ],
   "source": [
    "# Correlation\n",
    "stk_bnd_corr = np.corrcoef(y_train.Stk_ret, y_train.Bnd_ret)\n",
    "stk_bnd_corr = stk_bnd_corr[0,1]\n",
    "stk_bnd_corr\n",
    "print(f'stock-bond correlation = {stk_bnd_corr:.3f}')"
   ]
  },
  {
   "cell_type": "markdown",
   "id": "fe2665e0",
   "metadata": {},
   "source": [
    "## 3e. Determine SAA Portfolio from Training Dataset"
   ]
  },
  {
   "cell_type": "code",
   "execution_count": 107,
   "id": "314366bb",
   "metadata": {},
   "outputs": [],
   "source": [
    "# Capital Market Assumptions (CMAs) -- using training dataset\n",
    "\n",
    "stk_ret = np.mean(y_train.Stk_ret)\n",
    "bnd_ret = np.mean(y_train.Bnd_ret)"
   ]
  },
  {
   "cell_type": "code",
   "execution_count": 108,
   "id": "c91a3e10",
   "metadata": {},
   "outputs": [
    {
     "name": "stdout",
     "output_type": "stream",
     "text": [
      "Optimal portfolio weight for stocks = 97.01%\n",
      "Optimal portfolio weight for bonds = 2.99%\n",
      "Total = 100.00%\n"
     ]
    }
   ],
   "source": [
    "# Determine Optimal SAA Portfolio Weights\n",
    "\n",
    "risk_tol = 0.4\n",
    "\n",
    "stk_wgt = (risk_tol*(stk_ret-bnd_ret) + bnd_risk**2 - stk_risk*bnd_risk*stk_bnd_corr\n",
    "          )/(stk_risk**2 + bnd_risk**2 - 2*stk_risk*bnd_risk*stk_bnd_corr)\n",
    "\n",
    "bnd_wgt = 1-stk_wgt\n",
    "total_wgt = stk_wgt + bnd_wgt\n",
    "\n",
    "print(f'Optimal portfolio weight for stocks = {stk_wgt:.2%}')\n",
    "print(f'Optimal portfolio weight for bonds = {bnd_wgt:.2%}')\n",
    "print(f'Total = {total_wgt:.2%}')"
   ]
  },
  {
   "cell_type": "markdown",
   "id": "7b5d552b",
   "metadata": {},
   "source": [
    "# 4. Generate Portfolio Weights - Relative Optimization"
   ]
  },
  {
   "cell_type": "markdown",
   "id": "9f0baf04",
   "metadata": {},
   "source": [
    "### Relative Optimization Function"
   ]
  },
  {
   "cell_type": "code",
   "execution_count": 74,
   "id": "e1cae426",
   "metadata": {},
   "outputs": [],
   "source": [
    "def relative_optimizer(stk_alpha, bnd_alpha, stk_risk, bnd_risk, stk_bnd_corr, rel_risk_tol = .10):\n",
    "    # Caluculate optimal stock weight\n",
    "    stk_dwgt = rel_risk_tol*(stk_alpha-bnd_alpha)/(stk_risk**2 + bnd_risk**2 - 2*stk_risk*bnd_risk*stk_bnd_corr)\n",
    "    # Bond weight\n",
    "    bnd_dwgt = -stk_dwgt\n",
    "    return stk_dwgt, bnd_dwgt"
   ]
  },
  {
   "cell_type": "markdown",
   "id": "8405f473",
   "metadata": {},
   "source": [
    "### 4a. Linear Regression TAA Overlay"
   ]
  },
  {
   "cell_type": "markdown",
   "id": "56608989",
   "metadata": {},
   "source": [
    "#### *Stock weights for train dataset*"
   ]
  },
  {
   "cell_type": "code",
   "execution_count": 75,
   "id": "34f1c2ff",
   "metadata": {
    "scrolled": true
   },
   "outputs": [
    {
     "name": "stderr",
     "output_type": "stream",
     "text": [
      "<ipython-input-75-3b5c284d31b8>:2: SettingWithCopyWarning: \n",
      "A value is trying to be set on a copy of a slice from a DataFrame.\n",
      "Try using .loc[row_indexer,col_indexer] = value instead\n",
      "\n",
      "See the caveats in the documentation: https://pandas.pydata.org/pandas-docs/stable/user_guide/indexing.html#returning-a-view-versus-a-copy\n",
      "  y_train['Stk_dwgt_reg'], y_train['Bnd_dwgt_reg'] = relative_optimizer(y_train.Stk_ret_reg, y_train.Bnd_ret_reg,\n"
     ]
    }
   ],
   "source": [
    "rel_risk_tol = .1\n",
    "y_train['Stk_dwgt_reg'], y_train['Bnd_dwgt_reg'] = relative_optimizer(y_train.Stk_ret_reg, y_train.Bnd_ret_reg, \n",
    "                                        stk_risk, bnd_risk, stk_bnd_corr, rel_risk_tol)"
   ]
  },
  {
   "cell_type": "code",
   "execution_count": 76,
   "id": "8eabeb0c",
   "metadata": {
    "scrolled": true
   },
   "outputs": [
    {
     "data": {
      "text/plain": [
       "<AxesSubplot:xlabel='Date'>"
      ]
     },
     "execution_count": 76,
     "metadata": {},
     "output_type": "execute_result"
    },
    {
     "data": {
      "image/png": "[encoded data removed]",
      "text/plain": [
       "<Figure size 432x288 with 1 Axes>"
      ]
     },
     "metadata": {
      "needs_background": "light"
     },
     "output_type": "display_data"
    }
   ],
   "source": [
    "y_train.Stk_dwgt_reg.plot()"
   ]
  },
  {
   "cell_type": "markdown",
   "id": "14c38b90",
   "metadata": {},
   "source": [
    "#### *Stock weights for test dataset*"
   ]
  },
  {
   "cell_type": "code",
   "execution_count": 77,
   "id": "ce53f1d6",
   "metadata": {
    "scrolled": true
   },
   "outputs": [
    {
     "name": "stderr",
     "output_type": "stream",
     "text": [
      "<ipython-input-77-3d8d9db46c0e>:1: SettingWithCopyWarning: \n",
      "A value is trying to be set on a copy of a slice from a DataFrame.\n",
      "Try using .loc[row_indexer,col_indexer] = value instead\n",
      "\n",
      "See the caveats in the documentation: https://pandas.pydata.org/pandas-docs/stable/user_guide/indexing.html#returning-a-view-versus-a-copy\n",
      "  y_test['Stk_dwgt_reg'], y_test['Bnd_dwgt_reg'] = relative_optimizer(y_test.Stk_ret_reg, y_test.Bnd_ret_reg,\n"
     ]
    }
   ],
   "source": [
    "y_test['Stk_dwgt_reg'], y_test['Bnd_dwgt_reg'] = relative_optimizer(y_test.Stk_ret_reg, y_test.Bnd_ret_reg, \n",
    "                                        stk_risk, bnd_risk, stk_bnd_corr, rel_risk_tol)"
   ]
  },
  {
   "cell_type": "code",
   "execution_count": 78,
   "id": "44a25666",
   "metadata": {
    "scrolled": false
   },
   "outputs": [
    {
     "data": {
      "text/plain": [
       "<AxesSubplot:xlabel='Date'>"
      ]
     },
     "execution_count": 78,
     "metadata": {},
     "output_type": "execute_result"
    },
    {
     "data": {
      "image/png": "[encoded data removed]",
      "text/plain": [
       "<Figure size 432x288 with 1 Axes>"
      ]
     },
     "metadata": {
      "needs_background": "light"
     },
     "output_type": "display_data"
    }
   ],
   "source": [
    "y_test.Stk_dwgt_reg.plot()"
   ]
  },
  {
   "cell_type": "markdown",
   "id": "07139245",
   "metadata": {},
   "source": [
    "### 4b. Feedforward TAA Overlay"
   ]
  },
  {
   "cell_type": "markdown",
   "id": "d145d58c",
   "metadata": {},
   "source": [
    "#### *Stock weights for train dataset*"
   ]
  },
  {
   "cell_type": "code",
   "execution_count": 79,
   "id": "6efb4e8d",
   "metadata": {
    "scrolled": true
   },
   "outputs": [
    {
     "name": "stderr",
     "output_type": "stream",
     "text": [
      "<ipython-input-79-08c08c1b1efa>:2: SettingWithCopyWarning: \n",
      "A value is trying to be set on a copy of a slice from a DataFrame.\n",
      "Try using .loc[row_indexer,col_indexer] = value instead\n",
      "\n",
      "See the caveats in the documentation: https://pandas.pydata.org/pandas-docs/stable/user_guide/indexing.html#returning-a-view-versus-a-copy\n",
      "  y_train['Stk_dwgt_dl'], y_train['Bnd_dwgt_dl'] = relative_optimizer(y_train.Stk_ret_dl, y_train.Bnd_ret_dl,\n"
     ]
    }
   ],
   "source": [
    "rel_risk_tol = .1\n",
    "y_train['Stk_dwgt_dl'], y_train['Bnd_dwgt_dl'] = relative_optimizer(y_train.Stk_ret_dl, y_train.Bnd_ret_dl, \n",
    "                                        stk_risk, bnd_risk, stk_bnd_corr, rel_risk_tol)"
   ]
  },
  {
   "cell_type": "code",
   "execution_count": 80,
   "id": "43962152",
   "metadata": {
    "scrolled": true
   },
   "outputs": [
    {
     "data": {
      "text/plain": [
       "<AxesSubplot:xlabel='Date'>"
      ]
     },
     "execution_count": 80,
     "metadata": {},
     "output_type": "execute_result"
    },
    {
     "data": {
      "image/png": "[encoded data removed]",
      "text/plain": [
       "<Figure size 432x288 with 1 Axes>"
      ]
     },
     "metadata": {
      "needs_background": "light"
     },
     "output_type": "display_data"
    }
   ],
   "source": [
    "y_train.Stk_dwgt_dl.plot()"
   ]
  },
  {
   "cell_type": "markdown",
   "id": "421f4e94",
   "metadata": {},
   "source": [
    "#### *Stock weights for test dataset*"
   ]
  },
  {
   "cell_type": "code",
   "execution_count": 81,
   "id": "4e05e38c",
   "metadata": {
    "scrolled": true
   },
   "outputs": [
    {
     "name": "stderr",
     "output_type": "stream",
     "text": [
      "<ipython-input-81-f9e1c21702ec>:1: SettingWithCopyWarning: \n",
      "A value is trying to be set on a copy of a slice from a DataFrame.\n",
      "Try using .loc[row_indexer,col_indexer] = value instead\n",
      "\n",
      "See the caveats in the documentation: https://pandas.pydata.org/pandas-docs/stable/user_guide/indexing.html#returning-a-view-versus-a-copy\n",
      "  y_test['Stk_dwgt_dl'], y_test['Bnd_dwgt_dl'] = relative_optimizer(y_test.Stk_ret_dl, y_test.Bnd_ret_dl,\n"
     ]
    }
   ],
   "source": [
    "y_test['Stk_dwgt_dl'], y_test['Bnd_dwgt_dl'] = relative_optimizer(y_test.Stk_ret_dl, y_test.Bnd_ret_dl, \n",
    "                                        stk_risk, bnd_risk, stk_bnd_corr, rel_risk_tol)"
   ]
  },
  {
   "cell_type": "code",
   "execution_count": 82,
   "id": "3db386d3",
   "metadata": {
    "scrolled": false
   },
   "outputs": [
    {
     "data": {
      "text/plain": [
       "<AxesSubplot:xlabel='Date'>"
      ]
     },
     "execution_count": 82,
     "metadata": {},
     "output_type": "execute_result"
    },
    {
     "data": {
      "image/png": "[encoded data removed]",
      "text/plain": [
       "<Figure size 432x288 with 1 Axes>"
      ]
     },
     "metadata": {
      "needs_background": "light"
     },
     "output_type": "display_data"
    }
   ],
   "source": [
    "y_test.Stk_dwgt_dl.plot()"
   ]
  },
  {
   "cell_type": "markdown",
   "id": "ef1e00c9",
   "metadata": {},
   "source": [
    "### 4c. CNN + LSTM TAA Overlay"
   ]
  },
  {
   "cell_type": "markdown",
   "id": "99c81048",
   "metadata": {},
   "source": [
    "#### *Stock weights for train dataset*"
   ]
  },
  {
   "cell_type": "code",
   "execution_count": 83,
   "id": "a9bd643f",
   "metadata": {
    "scrolled": true
   },
   "outputs": [],
   "source": [
    "rel_risk_tol = .1\n",
    "y_train_lstm_stk_dwgt, y_train_lstm_bnd_dwgt = relative_optimizer(y_train_lstm_stk_pred, y_train_lstm_bnd_pred, \n",
    "                                        stk_risk, bnd_risk, stk_bnd_corr, rel_risk_tol)"
   ]
  },
  {
   "cell_type": "code",
   "execution_count": 84,
   "id": "1348c3c2",
   "metadata": {
    "scrolled": true
   },
   "outputs": [
    {
     "data": {
      "text/plain": [
       "[<matplotlib.lines.Line2D at 0x7fe0508f7400>]"
      ]
     },
     "execution_count": 84,
     "metadata": {},
     "output_type": "execute_result"
    },
    {
     "data": {
      "image/png": "[encoded data removed]",
      "text/plain": [
       "<Figure size 432x288 with 1 Axes>"
      ]
     },
     "metadata": {
      "needs_background": "light"
     },
     "output_type": "display_data"
    }
   ],
   "source": [
    "plt.plot(y_train_lstm_stk_dwgt)"
   ]
  },
  {
   "cell_type": "markdown",
   "id": "0177cdb7",
   "metadata": {},
   "source": [
    "#### *Stock weights for test dataset*"
   ]
  },
  {
   "cell_type": "code",
   "execution_count": 85,
   "id": "3dbd64af",
   "metadata": {
    "scrolled": true
   },
   "outputs": [],
   "source": [
    "y_test_lstm_stk_dwgt, y_test_lstm_bnd_dwgt = relative_optimizer(y_test_lstm_stk_pred, y_test_lstm_bnd_pred, \n",
    "                                        stk_risk, bnd_risk, stk_bnd_corr, rel_risk_tol)"
   ]
  },
  {
   "cell_type": "code",
   "execution_count": 86,
   "id": "885b87bd",
   "metadata": {
    "scrolled": false
   },
   "outputs": [
    {
     "data": {
      "text/plain": [
       "[<matplotlib.lines.Line2D at 0x7fe050a29d30>]"
      ]
     },
     "execution_count": 86,
     "metadata": {},
     "output_type": "execute_result"
    },
    {
     "data": {
      "image/png": "[encoded data removed]",
      "text/plain": [
       "<Figure size 432x288 with 1 Axes>"
      ]
     },
     "metadata": {
      "needs_background": "light"
     },
     "output_type": "display_data"
    }
   ],
   "source": [
    "plt.plot(y_test_lstm_stk_dwgt)"
   ]
  },
  {
   "cell_type": "markdown",
   "id": "f7f85cbd",
   "metadata": {},
   "source": [
    "# 5. Calculate TAA Portfolio Returns"
   ]
  },
  {
   "cell_type": "markdown",
   "id": "17673ff0",
   "metadata": {},
   "source": [
    "### 5a. Linear Regression TAA Overlay"
   ]
  },
  {
   "cell_type": "markdown",
   "id": "300ce76c",
   "metadata": {},
   "source": [
    "#### *Portfolio returns for train dataset*"
   ]
  },
  {
   "cell_type": "code",
   "execution_count": 87,
   "id": "fb3da520",
   "metadata": {},
   "outputs": [
    {
     "name": "stderr",
     "output_type": "stream",
     "text": [
      "<ipython-input-87-d573ee69c1a3>:1: SettingWithCopyWarning: \n",
      "A value is trying to be set on a copy of a slice from a DataFrame.\n",
      "Try using .loc[row_indexer,col_indexer] = value instead\n",
      "\n",
      "See the caveats in the documentation: https://pandas.pydata.org/pandas-docs/stable/user_guide/indexing.html#returning-a-view-versus-a-copy\n",
      "  y_train['Port_ret_reg'] = y_train.Stk_dwgt_reg*y_train.Stk_ret + y_train.Bnd_dwgt_reg*y_train.Bnd_ret\n"
     ]
    }
   ],
   "source": [
    "y_train['Port_ret_reg'] = y_train.Stk_dwgt_reg*y_train.Stk_ret + y_train.Bnd_dwgt_reg*y_train.Bnd_ret"
   ]
  },
  {
   "cell_type": "markdown",
   "id": "aa7e8c95",
   "metadata": {},
   "source": [
    "#### *Portfolio returns for test dataset*"
   ]
  },
  {
   "cell_type": "code",
   "execution_count": 88,
   "id": "525be927",
   "metadata": {},
   "outputs": [
    {
     "name": "stderr",
     "output_type": "stream",
     "text": [
      "<ipython-input-88-c5fafc5bc7dd>:1: SettingWithCopyWarning: \n",
      "A value is trying to be set on a copy of a slice from a DataFrame.\n",
      "Try using .loc[row_indexer,col_indexer] = value instead\n",
      "\n",
      "See the caveats in the documentation: https://pandas.pydata.org/pandas-docs/stable/user_guide/indexing.html#returning-a-view-versus-a-copy\n",
      "  y_test['Port_ret_reg'] = y_test.Stk_dwgt_reg*y_test.Stk_ret + y_test.Bnd_dwgt_reg*y_test.Bnd_ret\n"
     ]
    }
   ],
   "source": [
    "y_test['Port_ret_reg'] = y_test.Stk_dwgt_reg*y_test.Stk_ret + y_test.Bnd_dwgt_reg*y_test.Bnd_ret"
   ]
  },
  {
   "cell_type": "markdown",
   "id": "414f8873",
   "metadata": {},
   "source": [
    "### 5b. Feedforward TAA Overlay"
   ]
  },
  {
   "cell_type": "markdown",
   "id": "2929d17e",
   "metadata": {},
   "source": [
    "#### *Portfolio returns for train dataset*"
   ]
  },
  {
   "cell_type": "code",
   "execution_count": 89,
   "id": "256caeb5",
   "metadata": {},
   "outputs": [
    {
     "name": "stderr",
     "output_type": "stream",
     "text": [
      "<ipython-input-89-4d894de246d7>:1: SettingWithCopyWarning: \n",
      "A value is trying to be set on a copy of a slice from a DataFrame.\n",
      "Try using .loc[row_indexer,col_indexer] = value instead\n",
      "\n",
      "See the caveats in the documentation: https://pandas.pydata.org/pandas-docs/stable/user_guide/indexing.html#returning-a-view-versus-a-copy\n",
      "  y_train['Port_ret_dl'] = y_train.Stk_dwgt_dl*y_train.Stk_ret + y_train.Bnd_dwgt_dl*y_train.Bnd_ret\n"
     ]
    }
   ],
   "source": [
    "y_train['Port_ret_dl'] = y_train.Stk_dwgt_dl*y_train.Stk_ret + y_train.Bnd_dwgt_dl*y_train.Bnd_ret"
   ]
  },
  {
   "cell_type": "markdown",
   "id": "203de24c",
   "metadata": {},
   "source": [
    "#### *Portfolio returns for test dataset*"
   ]
  },
  {
   "cell_type": "code",
   "execution_count": 90,
   "id": "834f72d5",
   "metadata": {},
   "outputs": [
    {
     "name": "stderr",
     "output_type": "stream",
     "text": [
      "<ipython-input-90-9b8f16de6ee8>:1: SettingWithCopyWarning: \n",
      "A value is trying to be set on a copy of a slice from a DataFrame.\n",
      "Try using .loc[row_indexer,col_indexer] = value instead\n",
      "\n",
      "See the caveats in the documentation: https://pandas.pydata.org/pandas-docs/stable/user_guide/indexing.html#returning-a-view-versus-a-copy\n",
      "  y_test['Port_ret_dl'] = y_test.Stk_dwgt_dl*y_test.Stk_ret + y_test.Bnd_dwgt_dl*y_test.Bnd_ret\n"
     ]
    }
   ],
   "source": [
    "y_test['Port_ret_dl'] = y_test.Stk_dwgt_dl*y_test.Stk_ret + y_test.Bnd_dwgt_dl*y_test.Bnd_ret"
   ]
  },
  {
   "cell_type": "markdown",
   "id": "ae888771",
   "metadata": {},
   "source": [
    "### 5c. CNN + LSTM TAA Overlay"
   ]
  },
  {
   "cell_type": "markdown",
   "id": "df3e05cf",
   "metadata": {},
   "source": [
    "#### *Portfolio returns for train dataset*"
   ]
  },
  {
   "cell_type": "code",
   "execution_count": 91,
   "id": "f58c87dc",
   "metadata": {},
   "outputs": [],
   "source": [
    "y_train_lstm_port = y_train_lstm_stk_dwgt*y_train_lstm_stk + y_train_lstm_bnd_dwgt*y_train_lstm_bnd"
   ]
  },
  {
   "cell_type": "markdown",
   "id": "4ba6454b",
   "metadata": {},
   "source": [
    "#### *Portfolio returns for test dataset*"
   ]
  },
  {
   "cell_type": "code",
   "execution_count": 92,
   "id": "cbcac934",
   "metadata": {},
   "outputs": [],
   "source": [
    "y_test_lstm_port = y_test_lstm_stk_dwgt*y_test_lstm_stk + y_test_lstm_bnd_dwgt*y_test_lstm_bnd"
   ]
  },
  {
   "cell_type": "markdown",
   "id": "2b300821",
   "metadata": {},
   "source": [
    "# 6. Compare Performance"
   ]
  },
  {
   "cell_type": "markdown",
   "id": "ab295992",
   "metadata": {},
   "source": [
    "#### <font color='blue'>*Performance Measurement function*</font>"
   ]
  },
  {
   "cell_type": "code",
   "execution_count": 93,
   "id": "f4021ac0",
   "metadata": {},
   "outputs": [],
   "source": [
    "def perform_measure(df_returns):\n",
    "    df_results = df_returns.describe().transpose()[['mean', 'std']]\n",
    "    df_results['Info Ratio (IR)'] = (df_results['mean']/df_results['std'])\n",
    "    df_results['geomean'] = sp.gmean(df_returns+1)-1\n",
    "    \n",
    "    return df_results"
   ]
  },
  {
   "cell_type": "markdown",
   "id": "af01f19c",
   "metadata": {},
   "source": [
    "## 6a. Results For \"Out of Sample\" (test dataset)"
   ]
  },
  {
   "cell_type": "code",
   "execution_count": 94,
   "id": "8ba5eed8",
   "metadata": {},
   "outputs": [],
   "source": [
    "# Align test dataset length with lstm returns length\n",
    "diff  = y_test.shape[0] - y_test_lstm_port.shape[0]\n",
    "y_test = y_test.iloc[diff:,:]"
   ]
  },
  {
   "cell_type": "code",
   "execution_count": 95,
   "id": "de5345e6",
   "metadata": {},
   "outputs": [],
   "source": [
    "# Add lstm returns to y_test datafrane\n",
    "y_test['Port_ret_lstm'] = y_test_lstm_port"
   ]
  },
  {
   "cell_type": "code",
   "execution_count": 97,
   "id": "49f6c761",
   "metadata": {},
   "outputs": [],
   "source": [
    "y_test_returns = y_test[['Port_ret_lstm', 'Port_ret_dl', 'Port_ret_reg', 'Stk_ret', 'Bnd_ret']]\n",
    "\n",
    "y_test_results = perform_measure(y_test_returns)"
   ]
  },
  {
   "cell_type": "code",
   "execution_count": 98,
   "id": "0c36698d",
   "metadata": {
    "scrolled": true
   },
   "outputs": [
    {
     "data": {
      "text/html": [
       "<div>\n",
       "<style scoped>\n",
       "    .dataframe tbody tr th:only-of-type {\n",
       "        vertical-align: middle;\n",
       "    }\n",
       "\n",
       "    .dataframe tbody tr th {\n",
       "        vertical-align: top;\n",
       "    }\n",
       "\n",
       "    .dataframe thead th {\n",
       "        text-align: right;\n",
       "    }\n",
       "</style>\n",
       "<table border=\"1\" class=\"dataframe\">\n",
       "  <thead>\n",
       "    <tr style=\"text-align: right;\">\n",
       "      <th></th>\n",
       "      <th>mean</th>\n",
       "      <th>std</th>\n",
       "      <th>Info Ratio (IR)</th>\n",
       "      <th>geomean</th>\n",
       "    </tr>\n",
       "  </thead>\n",
       "  <tbody>\n",
       "    <tr>\n",
       "      <th>Port_ret_lstm</th>\n",
       "      <td>0.000972</td>\n",
       "      <td>0.039335</td>\n",
       "      <td>0.024702</td>\n",
       "      <td>0.000144</td>\n",
       "    </tr>\n",
       "    <tr>\n",
       "      <th>Port_ret_dl</th>\n",
       "      <td>-0.006844</td>\n",
       "      <td>0.069433</td>\n",
       "      <td>-0.098573</td>\n",
       "      <td>-0.010256</td>\n",
       "    </tr>\n",
       "    <tr>\n",
       "      <th>Port_ret_reg</th>\n",
       "      <td>0.001432</td>\n",
       "      <td>0.015831</td>\n",
       "      <td>0.090480</td>\n",
       "      <td>0.001305</td>\n",
       "    </tr>\n",
       "    <tr>\n",
       "      <th>Stk_ret</th>\n",
       "      <td>0.009618</td>\n",
       "      <td>0.035991</td>\n",
       "      <td>0.267242</td>\n",
       "      <td>0.008946</td>\n",
       "    </tr>\n",
       "    <tr>\n",
       "      <th>Bnd_ret</th>\n",
       "      <td>0.003393</td>\n",
       "      <td>0.017451</td>\n",
       "      <td>0.194433</td>\n",
       "      <td>0.003243</td>\n",
       "    </tr>\n",
       "  </tbody>\n",
       "</table>\n",
       "</div>"
      ],
      "text/plain": [
       "                   mean       std  Info Ratio (IR)   geomean\n",
       "Port_ret_lstm  0.000972  0.039335         0.024702  0.000144\n",
       "Port_ret_dl   -0.006844  0.069433        -0.098573 -0.010256\n",
       "Port_ret_reg   0.001432  0.015831         0.090480  0.001305\n",
       "Stk_ret        0.009618  0.035991         0.267242  0.008946\n",
       "Bnd_ret        0.003393  0.017451         0.194433  0.003243"
      ]
     },
     "execution_count": 98,
     "metadata": {},
     "output_type": "execute_result"
    }
   ],
   "source": [
    "y_test_results"
   ]
  },
  {
   "cell_type": "code",
   "execution_count": 99,
   "id": "525a2363",
   "metadata": {},
   "outputs": [],
   "source": [
    "y_test_cumrets = (1+y_test_returns).cumprod()"
   ]
  },
  {
   "cell_type": "code",
   "execution_count": 100,
   "id": "4e3d7817",
   "metadata": {
    "scrolled": true
   },
   "outputs": [
    {
     "data": {
      "image/png": "[encoded data removed]",
      "text/plain": [
       "<Figure size 720x432 with 1 Axes>"
      ]
     },
     "metadata": {
      "needs_background": "light"
     },
     "output_type": "display_data"
    }
   ],
   "source": [
    "y_test_cumrets.plot(logy=True, figsize=(10,6))\n",
    "plt.title('Cumulative Wealth', fontsize = 30)\n",
    "plt.xlabel('Date', fontsize = 15)\n",
    "plt.ylabel('Wealth', fontsize = 15)\n",
    "plt.grid()"
   ]
  },
  {
   "cell_type": "markdown",
   "id": "e8d3b529",
   "metadata": {},
   "source": [
    "## 6b. Results For \"In Sample\" (train dataset)"
   ]
  },
  {
   "cell_type": "code",
   "execution_count": 101,
   "id": "8ca61322",
   "metadata": {},
   "outputs": [],
   "source": [
    "# Align train dataset length with lstm returns length\n",
    "diff  = y_train.shape[0] - y_train_lstm_port.shape[0]\n",
    "y_train = y_train.iloc[diff:,:]"
   ]
  },
  {
   "cell_type": "code",
   "execution_count": 102,
   "id": "b2b163dc",
   "metadata": {},
   "outputs": [],
   "source": [
    "# Add lstm returns to y_test datafrane\n",
    "y_train['Port_ret_lstm'] = y_train_lstm_port"
   ]
  },
  {
   "cell_type": "code",
   "execution_count": 103,
   "id": "fdd9aec3",
   "metadata": {},
   "outputs": [],
   "source": [
    "y_train_returns = y_train[['Port_ret_lstm', 'Port_ret_dl', 'Port_ret_reg', 'Stk_ret', 'Bnd_ret']]\n",
    "\n",
    "y_train_results = perform_measure(y_train_returns)"
   ]
  },
  {
   "cell_type": "code",
   "execution_count": 104,
   "id": "37f4b737",
   "metadata": {
    "scrolled": true
   },
   "outputs": [
    {
     "data": {
      "text/html": [
       "<div>\n",
       "<style scoped>\n",
       "    .dataframe tbody tr th:only-of-type {\n",
       "        vertical-align: middle;\n",
       "    }\n",
       "\n",
       "    .dataframe tbody tr th {\n",
       "        vertical-align: top;\n",
       "    }\n",
       "\n",
       "    .dataframe thead th {\n",
       "        text-align: right;\n",
       "    }\n",
       "</style>\n",
       "<table border=\"1\" class=\"dataframe\">\n",
       "  <thead>\n",
       "    <tr style=\"text-align: right;\">\n",
       "      <th></th>\n",
       "      <th>mean</th>\n",
       "      <th>std</th>\n",
       "      <th>Info Ratio (IR)</th>\n",
       "      <th>geomean</th>\n",
       "    </tr>\n",
       "  </thead>\n",
       "  <tbody>\n",
       "    <tr>\n",
       "      <th>Port_ret_lstm</th>\n",
       "      <td>0.044244</td>\n",
       "      <td>0.293418</td>\n",
       "      <td>0.150787</td>\n",
       "      <td>0.031703</td>\n",
       "    </tr>\n",
       "    <tr>\n",
       "      <th>Port_ret_dl</th>\n",
       "      <td>0.010319</td>\n",
       "      <td>0.051151</td>\n",
       "      <td>0.201744</td>\n",
       "      <td>0.009306</td>\n",
       "    </tr>\n",
       "    <tr>\n",
       "      <th>Port_ret_reg</th>\n",
       "      <td>0.004767</td>\n",
       "      <td>0.021160</td>\n",
       "      <td>0.225295</td>\n",
       "      <td>0.004547</td>\n",
       "    </tr>\n",
       "    <tr>\n",
       "      <th>Stk_ret</th>\n",
       "      <td>0.009272</td>\n",
       "      <td>0.046487</td>\n",
       "      <td>0.199449</td>\n",
       "      <td>0.008209</td>\n",
       "    </tr>\n",
       "    <tr>\n",
       "      <th>Bnd_ret</th>\n",
       "      <td>0.004260</td>\n",
       "      <td>0.014691</td>\n",
       "      <td>0.290007</td>\n",
       "      <td>0.004154</td>\n",
       "    </tr>\n",
       "  </tbody>\n",
       "</table>\n",
       "</div>"
      ],
      "text/plain": [
       "                   mean       std  Info Ratio (IR)   geomean\n",
       "Port_ret_lstm  0.044244  0.293418         0.150787  0.031703\n",
       "Port_ret_dl    0.010319  0.051151         0.201744  0.009306\n",
       "Port_ret_reg   0.004767  0.021160         0.225295  0.004547\n",
       "Stk_ret        0.009272  0.046487         0.199449  0.008209\n",
       "Bnd_ret        0.004260  0.014691         0.290007  0.004154"
      ]
     },
     "execution_count": 104,
     "metadata": {},
     "output_type": "execute_result"
    }
   ],
   "source": [
    "y_train_results"
   ]
  },
  {
   "cell_type": "code",
   "execution_count": 105,
   "id": "4f70825d",
   "metadata": {},
   "outputs": [],
   "source": [
    "y_train_cumrets = (1+y_train_returns).cumprod()"
   ]
  },
  {
   "cell_type": "code",
   "execution_count": 106,
   "id": "d49b6d4e",
   "metadata": {
    "scrolled": true
   },
   "outputs": [
    {
     "data": {
      "image/png": "[encoded data removed]",
      "text/plain": [
       "<Figure size 720x432 with 1 Axes>"
      ]
     },
     "metadata": {
      "needs_background": "light"
     },
     "output_type": "display_data"
    }
   ],
   "source": [
    "y_train_cumrets.plot(logy=True, figsize=(10,6))\n",
    "plt.title('Cumulative Wealth', fontsize = 30)\n",
    "plt.xlabel('Date', fontsize = 15)\n",
    "plt.ylabel('Wealth', fontsize = 15)\n",
    "plt.grid()"
   ]
  }
 ],
 "metadata": {
  "kernelspec": {
   "display_name": "Python 3",
   "language": "python",
   "name": "python3"
  },
  "language_info": {
   "codemirror_mode": {
    "name": "ipython",
    "version": 3
   },
   "file_extension": ".py",
   "mimetype": "text/x-python",
   "name": "python",
   "nbconvert_exporter": "python",
   "pygments_lexer": "ipython3",
   "version": "3.8.8"
  }
 },
 "nbformat": 4,
 "nbformat_minor": 5
}
