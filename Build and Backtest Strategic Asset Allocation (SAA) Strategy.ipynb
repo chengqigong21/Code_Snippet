{
 "cells": [
  {
   "cell_type": "markdown",
   "metadata": {
    "id": "FVRgCNMAw7F3"
   },
   "source": [
    "# Build and Backtest Strategic Asset Allocation (SAA) Strategy"
   ]
  },
  {
   "cell_type": "code",
   "execution_count": null,
   "metadata": {
    "id": "adKMHTMww7F7"
   },
   "outputs": [],
   "source": [
    "import numpy as np\n",
    "import pandas as pd\n",
    "import matplotlib.pyplot as plt\n",
    "from scipy import stats"
   ]
  },
  {
   "cell_type": "code",
   "execution_count": null,
   "metadata": {
    "id": "1yU2SAu_w7F_"
   },
   "outputs": [],
   "source": [
    "# Formats Dataframes\n",
    "pd.options.display.float_format = '{:,.2%}'.format"
   ]
  },
  {
   "cell_type": "markdown",
   "metadata": {
    "id": "7OvzDgMjw7GA"
   },
   "source": [
    "## <em><span style='color:Blue'>Optimization Function</span></em>"
   ]
  },
  {
   "cell_type": "code",
   "execution_count": null,
   "metadata": {
    "id": "cYZv1Cqiw7GA"
   },
   "outputs": [],
   "source": [
    "def mean_var_optimize(ret1, ret2, std1, std2, correl12, risk_tol):\n",
    "    # Find optimal weights\n",
    "\n",
    "    wgt1 = (risk_tol*(ret1-ret2) + std2**2 - std1*std2*correl12\n",
    "              )/(std1**2 + std2**2 - 2*std1*std2*correl12)\n",
    "\n",
    "    wgt2 = 1-wgt1\n",
    "    wgt_tot = wgt1 + wgt2\n",
    "\n",
    "    print(f'Optimal portfolio weight for stocks = {wgt1:.2%}')\n",
    "    print(f'Optimal portfolio weight for bonds = {wgt2:.2%}')\n",
    "    print(f'Total = {wgt_tot:.2%}')\n",
    "    \n",
    "    return wgt1, wgt2\n"
   ]
  },
  {
   "cell_type": "markdown",
   "metadata": {
    "id": "r4zNBduMw7GC"
   },
   "source": [
    "## <em><span style='color:Blue'>Performance Measurement Function</span></em>"
   ]
  },
  {
   "cell_type": "code",
   "execution_count": null,
   "metadata": {
    "id": "R8-i1pd1w7GD"
   },
   "outputs": [],
   "source": [
    "def perform_measure():\n",
    "    # Training Data\n",
    "    df_train_results = df_train.describe().transpose()[['mean', 'std']]\n",
    "    df_train_results['Sharpe ratio'] = (df_train_results['mean']-df_train_results.loc['Tbill','mean'])/df_train_results['std']\n",
    "    df_train_results['geomean'] = stats.gmean(df_train+1)-1\n",
    "    # Test Data\n",
    "    df_test_results = df_test.describe().transpose()[['mean', 'std']]\n",
    "    df_test_results['Sharpe ratio'] = (df_test_results['mean']-df_test_results.loc['Tbill','mean'])/df_test_results['std']\n",
    "    df_test_results['geomean'] = stats.gmean(df_test+1)-1\n",
    "    \n",
    "    return df_train_results, df_test_results \n"
   ]
  },
  {
   "cell_type": "markdown",
   "metadata": {
    "id": "pdXOzRWfw7GE"
   },
   "source": [
    "## Import Data"
   ]
  },
  {
   "cell_type": "code",
   "execution_count": null,
   "metadata": {
    "id": "7C8IxDByw7GF",
    "scrolled": true
   },
   "outputs": [],
   "source": [
    "df = pd.read_excel(r'Data - Build and Backtest Strategic Asset Allocation (SAA) Strategy.xls')"
   ]
  },
  {
   "cell_type": "code",
   "execution_count": null,
   "metadata": {
    "id": "TPtUFPLWw7GG",
    "outputId": "38192266-edb4-4ccb-ca8d-958cd2f85947",
    "scrolled": true
   },
   "outputs": [
    {
     "data": {
      "text/html": [
       "<div>\n",
       "<style scoped>\n",
       "    .dataframe tbody tr th:only-of-type {\n",
       "        vertical-align: middle;\n",
       "    }\n",
       "\n",
       "    .dataframe tbody tr th {\n",
       "        vertical-align: top;\n",
       "    }\n",
       "\n",
       "    .dataframe thead th {\n",
       "        text-align: right;\n",
       "    }\n",
       "</style>\n",
       "<table border=\"1\" class=\"dataframe\">\n",
       "  <thead>\n",
       "    <tr style=\"text-align: right;\">\n",
       "      <th></th>\n",
       "      <th>SP500</th>\n",
       "      <th>Tbill</th>\n",
       "      <th>Tbond</th>\n",
       "    </tr>\n",
       "    <tr>\n",
       "      <th>Year</th>\n",
       "      <th></th>\n",
       "      <th></th>\n",
       "      <th></th>\n",
       "    </tr>\n",
       "  </thead>\n",
       "  <tbody>\n",
       "    <tr>\n",
       "      <th>1928</th>\n",
       "      <td>43.81%</td>\n",
       "      <td>3.08%</td>\n",
       "      <td>0.84%</td>\n",
       "    </tr>\n",
       "    <tr>\n",
       "      <th>1929</th>\n",
       "      <td>-8.30%</td>\n",
       "      <td>3.16%</td>\n",
       "      <td>4.20%</td>\n",
       "    </tr>\n",
       "    <tr>\n",
       "      <th>1930</th>\n",
       "      <td>-25.12%</td>\n",
       "      <td>4.55%</td>\n",
       "      <td>4.54%</td>\n",
       "    </tr>\n",
       "    <tr>\n",
       "      <th>1931</th>\n",
       "      <td>-43.84%</td>\n",
       "      <td>2.31%</td>\n",
       "      <td>-2.56%</td>\n",
       "    </tr>\n",
       "    <tr>\n",
       "      <th>1932</th>\n",
       "      <td>-8.64%</td>\n",
       "      <td>1.07%</td>\n",
       "      <td>8.79%</td>\n",
       "    </tr>\n",
       "    <tr>\n",
       "      <th>...</th>\n",
       "      <td>...</td>\n",
       "      <td>...</td>\n",
       "      <td>...</td>\n",
       "    </tr>\n",
       "    <tr>\n",
       "      <th>2017</th>\n",
       "      <td>21.61%</td>\n",
       "      <td>0.93%</td>\n",
       "      <td>2.80%</td>\n",
       "    </tr>\n",
       "    <tr>\n",
       "      <th>2018</th>\n",
       "      <td>-4.23%</td>\n",
       "      <td>1.94%</td>\n",
       "      <td>-0.02%</td>\n",
       "    </tr>\n",
       "    <tr>\n",
       "      <th>2019</th>\n",
       "      <td>31.21%</td>\n",
       "      <td>1.55%</td>\n",
       "      <td>9.64%</td>\n",
       "    </tr>\n",
       "    <tr>\n",
       "      <th>2020</th>\n",
       "      <td>18.02%</td>\n",
       "      <td>0.09%</td>\n",
       "      <td>11.33%</td>\n",
       "    </tr>\n",
       "    <tr>\n",
       "      <th>2021</th>\n",
       "      <td>28.47%</td>\n",
       "      <td>0.06%</td>\n",
       "      <td>-4.42%</td>\n",
       "    </tr>\n",
       "  </tbody>\n",
       "</table>\n",
       "<p>94 rows × 3 columns</p>\n",
       "</div>"
      ],
      "text/plain": [
       "       SP500  Tbill  Tbond\n",
       "Year                      \n",
       "1928  43.81%  3.08%  0.84%\n",
       "1929  -8.30%  3.16%  4.20%\n",
       "1930 -25.12%  4.55%  4.54%\n",
       "1931 -43.84%  2.31% -2.56%\n",
       "1932  -8.64%  1.07%  8.79%\n",
       "...      ...    ...    ...\n",
       "2017  21.61%  0.93%  2.80%\n",
       "2018  -4.23%  1.94% -0.02%\n",
       "2019  31.21%  1.55%  9.64%\n",
       "2020  18.02%  0.09% 11.33%\n",
       "2021  28.47%  0.06% -4.42%\n",
       "\n",
       "[94 rows x 3 columns]"
      ]
     },
     "execution_count": 6,
     "metadata": {},
     "output_type": "execute_result"
    }
   ],
   "source": [
    "df.set_index('Year', inplace=True)\n",
    "df"
   ]
  },
  {
   "cell_type": "code",
   "execution_count": null,
   "metadata": {
    "id": "ujcCITBNw7GH",
    "scrolled": true
   },
   "outputs": [],
   "source": [
    "df_cumret = (1+df).cumprod()"
   ]
  },
  {
   "cell_type": "code",
   "execution_count": null,
   "metadata": {
    "id": "6lnTlybiw7GI",
    "outputId": "d2ad67fd-3117-4e92-d042-22db6eeaa559",
    "scrolled": false
   },
   "outputs": [
    {
     "data": {
      "image/png": "[encoded data removed]",
      "text/plain": [
       "<Figure size 432x288 with 1 Axes>"
      ]
     },
     "metadata": {
      "needs_background": "light"
     },
     "output_type": "display_data"
    }
   ],
   "source": [
    "df_cumret.plot(logy=True, title='Cumulative Wealth', xlabel='Date', ylabel='Value of Investment');"
   ]
  },
  {
   "cell_type": "markdown",
   "metadata": {
    "id": "PUqnci8sw7GI"
   },
   "source": [
    "## <font color='red'>*Note that stocks strongly outpace bonds and cash.* </font>"
   ]
  },
  {
   "cell_type": "code",
   "execution_count": null,
   "metadata": {
    "id": "dBHwbpeSw7GI",
    "outputId": "6f90a966-5410-494f-edbe-7c125cf9cf07"
   },
   "outputs": [
    {
     "data": {
      "text/html": [
       "<div>\n",
       "<style scoped>\n",
       "    .dataframe tbody tr th:only-of-type {\n",
       "        vertical-align: middle;\n",
       "    }\n",
       "\n",
       "    .dataframe tbody tr th {\n",
       "        vertical-align: top;\n",
       "    }\n",
       "\n",
       "    .dataframe thead th {\n",
       "        text-align: right;\n",
       "    }\n",
       "</style>\n",
       "<table border=\"1\" class=\"dataframe\">\n",
       "  <thead>\n",
       "    <tr style=\"text-align: right;\">\n",
       "      <th></th>\n",
       "      <th>count</th>\n",
       "      <th>mean</th>\n",
       "      <th>std</th>\n",
       "      <th>min</th>\n",
       "      <th>25%</th>\n",
       "      <th>50%</th>\n",
       "      <th>75%</th>\n",
       "      <th>max</th>\n",
       "    </tr>\n",
       "  </thead>\n",
       "  <tbody>\n",
       "    <tr>\n",
       "      <th>SP500</th>\n",
       "      <td>9,400.00%</td>\n",
       "      <td>11.82%</td>\n",
       "      <td>19.46%</td>\n",
       "      <td>-43.84%</td>\n",
       "      <td>-1.17%</td>\n",
       "      <td>14.52%</td>\n",
       "      <td>25.72%</td>\n",
       "      <td>52.56%</td>\n",
       "    </tr>\n",
       "    <tr>\n",
       "      <th>Tbill</th>\n",
       "      <td>9,400.00%</td>\n",
       "      <td>3.33%</td>\n",
       "      <td>3.04%</td>\n",
       "      <td>0.03%</td>\n",
       "      <td>0.68%</td>\n",
       "      <td>2.94%</td>\n",
       "      <td>5.05%</td>\n",
       "      <td>14.03%</td>\n",
       "    </tr>\n",
       "    <tr>\n",
       "      <th>Tbond</th>\n",
       "      <td>9,400.00%</td>\n",
       "      <td>5.11%</td>\n",
       "      <td>7.68%</td>\n",
       "      <td>-11.12%</td>\n",
       "      <td>0.86%</td>\n",
       "      <td>3.28%</td>\n",
       "      <td>8.71%</td>\n",
       "      <td>32.81%</td>\n",
       "    </tr>\n",
       "  </tbody>\n",
       "</table>\n",
       "</div>"
      ],
      "text/plain": [
       "          count   mean    std     min    25%    50%    75%    max\n",
       "SP500 9,400.00% 11.82% 19.46% -43.84% -1.17% 14.52% 25.72% 52.56%\n",
       "Tbill 9,400.00%  3.33%  3.04%   0.03%  0.68%  2.94%  5.05% 14.03%\n",
       "Tbond 9,400.00%  5.11%  7.68% -11.12%  0.86%  3.28%  8.71% 32.81%"
      ]
     },
     "execution_count": 9,
     "metadata": {},
     "output_type": "execute_result"
    }
   ],
   "source": [
    "df.describe().transpose()"
   ]
  },
  {
   "cell_type": "markdown",
   "metadata": {
    "id": "tgfwmIwmw7GJ"
   },
   "source": [
    "## Split Data into Train and Test Datasets"
   ]
  },
  {
   "cell_type": "code",
   "execution_count": null,
   "metadata": {
    "id": "eRo_Fd2Dw7GJ"
   },
   "outputs": [],
   "source": [
    "df_train = df.loc[:1999].copy()"
   ]
  },
  {
   "cell_type": "code",
   "execution_count": null,
   "metadata": {
    "id": "GVdZWVxUw7GK"
   },
   "outputs": [],
   "source": [
    "df_test = df.loc[2000:].copy()"
   ]
  },
  {
   "cell_type": "markdown",
   "metadata": {
    "id": "tKOvrrAyw7GK"
   },
   "source": [
    "## Create Capital Market Assumptions (CMAs)\n",
    "Using historical data from Train dataset"
   ]
  },
  {
   "cell_type": "code",
   "execution_count": null,
   "metadata": {
    "id": "Cg29GCU3w7GK",
    "outputId": "ec4dbb6e-3e20-4481-ce8a-f1652ffefcc0"
   },
   "outputs": [
    {
     "data": {
      "text/plain": [
       "array([0.11820536, 0.0511044 ])"
      ]
     },
     "execution_count": 12,
     "metadata": {},
     "output_type": "execute_result"
    }
   ],
   "source": [
    "exp_ret = np.array([df.SP500.mean(), df.Tbond.mean()])\n",
    "exp_ret"
   ]
  },
  {
   "cell_type": "code",
   "execution_count": null,
   "metadata": {
    "id": "0prIvLLAw7GL",
    "outputId": "80a7fed7-efb2-4617-c8a6-8fd3fa1d2443"
   },
   "outputs": [
    {
     "data": {
      "text/plain": [
       "array([0.19460547, 0.07679877])"
      ]
     },
     "execution_count": 13,
     "metadata": {},
     "output_type": "execute_result"
    }
   ],
   "source": [
    "exp_stdev = np.array([df.SP500.std(), df.Tbond.std()])\n",
    "exp_stdev"
   ]
  },
  {
   "cell_type": "code",
   "execution_count": null,
   "metadata": {
    "id": "9VOoil9uw7GL",
    "outputId": "23d7b03f-381b-4b60-f764-48fd270335e4"
   },
   "outputs": [
    {
     "data": {
      "text/plain": [
       "-0.023264487731935173"
      ]
     },
     "execution_count": 14,
     "metadata": {},
     "output_type": "execute_result"
    }
   ],
   "source": [
    "corr_stk_bnd = df.SP500.corr(df.Tbond)\n",
    "corr_stk_bnd"
   ]
  },
  {
   "cell_type": "markdown",
   "metadata": {
    "id": "6j8ea1jNw7GL"
   },
   "source": [
    "## Solve for Optimal Portfolio"
   ]
  },
  {
   "cell_type": "code",
   "execution_count": null,
   "metadata": {
    "id": "tNlI-YCAw7GL",
    "outputId": "dcabaf63-9b97-4340-e242-cad6c45610dc"
   },
   "outputs": [
    {
     "name": "stdout",
     "output_type": "stream",
     "text": [
      "Optimal portfolio weight for stocks = 59.32%\n",
      "Optimal portfolio weight for bonds = 40.68%\n",
      "Total = 100.00%\n"
     ]
    }
   ],
   "source": [
    "risk_tol = .3\n",
    "\n",
    "# Call mean_var_optimize function\n",
    "wgt_stk, wgt_bnd = mean_var_optimize(exp_ret[0], exp_ret[1], exp_stdev[0], exp_stdev[1], corr_stk_bnd, risk_tol)"
   ]
  },
  {
   "cell_type": "markdown",
   "metadata": {
    "id": "kc0EfTpfw7GM"
   },
   "source": [
    "## Calculate Portfolio Returns"
   ]
  },
  {
   "cell_type": "code",
   "execution_count": null,
   "metadata": {
    "id": "U9twloI6w7GM"
   },
   "outputs": [],
   "source": [
    "df_train['Optimal_Portfolio'] = wgt_stk*df.SP500 + wgt_bnd*df.Tbond"
   ]
  },
  {
   "cell_type": "code",
   "execution_count": null,
   "metadata": {
    "id": "_oRyW7svw7GM"
   },
   "outputs": [],
   "source": [
    "df_test['Optimal_Portfolio'] = wgt_stk*df.SP500 + wgt_bnd*df.Tbond"
   ]
  },
  {
   "cell_type": "code",
   "execution_count": null,
   "metadata": {
    "id": "BRrJA78cw7GM"
   },
   "outputs": [],
   "source": [
    "df_train['Equal_Portfolio'] = .5*df.SP500 + .5*df.Tbond"
   ]
  },
  {
   "cell_type": "code",
   "execution_count": null,
   "metadata": {
    "id": "blZDIjZIw7GN"
   },
   "outputs": [],
   "source": [
    "df_test['Equal_Portfolio'] = .5*df.SP500 + .5*df.Tbond"
   ]
  },
  {
   "cell_type": "markdown",
   "metadata": {
    "id": "RsRvNVz4w7GN"
   },
   "source": [
    "## Calculate Performance Statistics"
   ]
  },
  {
   "cell_type": "code",
   "execution_count": null,
   "metadata": {
    "id": "utPtglbAw7GN"
   },
   "outputs": [],
   "source": [
    "df_train_results, df_test_results = perform_measure()"
   ]
  },
  {
   "cell_type": "markdown",
   "metadata": {
    "id": "ADX9EwCXw7GO"
   },
   "source": [
    "#### *Train Dataset*"
   ]
  },
  {
   "cell_type": "code",
   "execution_count": null,
   "metadata": {
    "id": "-8DNUQcMw7GO",
    "outputId": "88c87122-5c4a-42d4-8cfa-c7ed2355d01d",
    "scrolled": true
   },
   "outputs": [
    {
     "data": {
      "text/html": [
       "<div>\n",
       "<style scoped>\n",
       "    .dataframe tbody tr th:only-of-type {\n",
       "        vertical-align: middle;\n",
       "    }\n",
       "\n",
       "    .dataframe tbody tr th {\n",
       "        vertical-align: top;\n",
       "    }\n",
       "\n",
       "    .dataframe thead th {\n",
       "        text-align: right;\n",
       "    }\n",
       "</style>\n",
       "<table border=\"1\" class=\"dataframe\">\n",
       "  <thead>\n",
       "    <tr style=\"text-align: right;\">\n",
       "      <th></th>\n",
       "      <th>mean</th>\n",
       "      <th>std</th>\n",
       "      <th>Sharpe ratio</th>\n",
       "      <th>geomean</th>\n",
       "    </tr>\n",
       "  </thead>\n",
       "  <tbody>\n",
       "    <tr>\n",
       "      <th>SP500</th>\n",
       "      <td>12.68%</td>\n",
       "      <td>20.01%</td>\n",
       "      <td>43.90%</td>\n",
       "      <td>10.76%</td>\n",
       "    </tr>\n",
       "    <tr>\n",
       "      <th>Tbill</th>\n",
       "      <td>3.89%</td>\n",
       "      <td>3.13%</td>\n",
       "      <td>0.00%</td>\n",
       "      <td>3.85%</td>\n",
       "    </tr>\n",
       "    <tr>\n",
       "      <th>Tbond</th>\n",
       "      <td>5.05%</td>\n",
       "      <td>7.61%</td>\n",
       "      <td>15.20%</td>\n",
       "      <td>4.79%</td>\n",
       "    </tr>\n",
       "    <tr>\n",
       "      <th>Optimal_Portfolio</th>\n",
       "      <td>9.58%</td>\n",
       "      <td>12.71%</td>\n",
       "      <td>44.68%</td>\n",
       "      <td>8.81%</td>\n",
       "    </tr>\n",
       "    <tr>\n",
       "      <th>Equal_Portfolio</th>\n",
       "      <td>8.87%</td>\n",
       "      <td>11.23%</td>\n",
       "      <td>44.25%</td>\n",
       "      <td>8.27%</td>\n",
       "    </tr>\n",
       "  </tbody>\n",
       "</table>\n",
       "</div>"
      ],
      "text/plain": [
       "                    mean    std  Sharpe ratio  geomean\n",
       "SP500             12.68% 20.01%        43.90%   10.76%\n",
       "Tbill              3.89%  3.13%         0.00%    3.85%\n",
       "Tbond              5.05%  7.61%        15.20%    4.79%\n",
       "Optimal_Portfolio  9.58% 12.71%        44.68%    8.81%\n",
       "Equal_Portfolio    8.87% 11.23%        44.25%    8.27%"
      ]
     },
     "execution_count": 21,
     "metadata": {},
     "output_type": "execute_result"
    }
   ],
   "source": [
    "df_train_results"
   ]
  },
  {
   "cell_type": "markdown",
   "metadata": {
    "id": "rWmNdIVhw7GO"
   },
   "source": [
    "#### *Test Dataset*"
   ]
  },
  {
   "cell_type": "code",
   "execution_count": null,
   "metadata": {
    "id": "rtYA8HX0w7GO",
    "outputId": "78e3dc62-e777-4680-a0bd-764dbf4566fd"
   },
   "outputs": [
    {
     "data": {
      "text/html": [
       "<div>\n",
       "<style scoped>\n",
       "    .dataframe tbody tr th:only-of-type {\n",
       "        vertical-align: middle;\n",
       "    }\n",
       "\n",
       "    .dataframe tbody tr th {\n",
       "        vertical-align: top;\n",
       "    }\n",
       "\n",
       "    .dataframe thead th {\n",
       "        text-align: right;\n",
       "    }\n",
       "</style>\n",
       "<table border=\"1\" class=\"dataframe\">\n",
       "  <thead>\n",
       "    <tr style=\"text-align: right;\">\n",
       "      <th></th>\n",
       "      <th>mean</th>\n",
       "      <th>std</th>\n",
       "      <th>Sharpe ratio</th>\n",
       "      <th>geomean</th>\n",
       "    </tr>\n",
       "  </thead>\n",
       "  <tbody>\n",
       "    <tr>\n",
       "      <th>SP500</th>\n",
       "      <td>9.01%</td>\n",
       "      <td>17.69%</td>\n",
       "      <td>42.67%</td>\n",
       "      <td>7.45%</td>\n",
       "    </tr>\n",
       "    <tr>\n",
       "      <th>Tbill</th>\n",
       "      <td>1.47%</td>\n",
       "      <td>1.74%</td>\n",
       "      <td>0.00%</td>\n",
       "      <td>1.45%</td>\n",
       "    </tr>\n",
       "    <tr>\n",
       "      <th>Tbond</th>\n",
       "      <td>5.30%</td>\n",
       "      <td>8.08%</td>\n",
       "      <td>47.52%</td>\n",
       "      <td>5.00%</td>\n",
       "    </tr>\n",
       "    <tr>\n",
       "      <th>Optimal_Portfolio</th>\n",
       "      <td>7.50%</td>\n",
       "      <td>8.72%</td>\n",
       "      <td>69.28%</td>\n",
       "      <td>7.15%</td>\n",
       "    </tr>\n",
       "    <tr>\n",
       "      <th>Equal_Portfolio</th>\n",
       "      <td>7.16%</td>\n",
       "      <td>6.93%</td>\n",
       "      <td>82.18%</td>\n",
       "      <td>6.94%</td>\n",
       "    </tr>\n",
       "  </tbody>\n",
       "</table>\n",
       "</div>"
      ],
      "text/plain": [
       "                   mean    std  Sharpe ratio  geomean\n",
       "SP500             9.01% 17.69%        42.67%    7.45%\n",
       "Tbill             1.47%  1.74%         0.00%    1.45%\n",
       "Tbond             5.30%  8.08%        47.52%    5.00%\n",
       "Optimal_Portfolio 7.50%  8.72%        69.28%    7.15%\n",
       "Equal_Portfolio   7.16%  6.93%        82.18%    6.94%"
      ]
     },
     "execution_count": 22,
     "metadata": {},
     "output_type": "execute_result"
    }
   ],
   "source": [
    "df_test_results"
   ]
  },
  {
   "cell_type": "markdown",
   "metadata": {
    "id": "dMvG3WQTw7GP"
   },
   "source": [
    "## Wealth Charts (cumulative returns)"
   ]
  },
  {
   "cell_type": "code",
   "execution_count": null,
   "metadata": {
    "id": "mEfexfbjw7GP",
    "scrolled": true
   },
   "outputs": [],
   "source": [
    "df_cumret = (1+df_test).cumprod()"
   ]
  },
  {
   "cell_type": "code",
   "execution_count": null,
   "metadata": {
    "id": "8Ls5AQOMw7GP",
    "outputId": "705258ea-c611-4ac6-ff9f-f6a58c9d2041",
    "scrolled": false
   },
   "outputs": [
    {
     "data": {
      "image/png": "[encoded data removed]",
      "text/plain": [
       "<Figure size 432x288 with 1 Axes>"
      ]
     },
     "metadata": {
      "needs_background": "light"
     },
     "output_type": "display_data"
    }
   ],
   "source": [
    "df_cumret.plot(logy=False, title='Cumulative Wealth', xlabel='Date', ylabel='Value of Investment');"
   ]
  },
  {
   "cell_type": "markdown",
   "metadata": {
    "id": "H7kjNndDw7GP"
   },
   "source": [
    "## <font color='red'>*Note the portfolios kept pace with stocks with less risk.* </font>"
   ]
  },
  {
   "cell_type": "code",
   "execution_count": null,
   "metadata": {
    "id": "PWzfD7Sbw7GP"
   },
   "outputs": [],
   "source": []
  },
  {
   "cell_type": "markdown",
   "metadata": {
    "id": "T2lmPoAnw7GQ"
   },
   "source": [
    "# CVXPY Optimizer (Two Asset Portfolio)"
   ]
  },
  {
   "cell_type": "code",
   "execution_count": null,
   "metadata": {
    "id": "r9wY6Couw7GQ"
   },
   "outputs": [],
   "source": [
    "import numpy as np\n",
    "import cvxpy as cp"
   ]
  },
  {
   "cell_type": "code",
   "execution_count": null,
   "metadata": {
    "id": "pA2Zmlqww7GQ"
   },
   "outputs": [],
   "source": [
    "# CMAs\n",
    "\n",
    "risk_tolerance = risk_tol\n",
    "risk_aversion = 1/(2*risk_tolerance)\n",
    "\n",
    "exp_ret = exp_ret.reshape(-1,1)\n",
    "exp_risk = exp_stdev.reshape(-1,1)\n",
    "exp_corr = np.array([[1.,corr_stk_bnd],\n",
    "                     [corr_stk_bnd,1.]])"
   ]
  },
  {
   "cell_type": "code",
   "execution_count": null,
   "metadata": {
    "id": "GmxH0nY_w7GQ",
    "outputId": "d24a1dc4-dec3-4b92-93aa-8de4a164b655"
   },
   "outputs": [
    {
     "data": {
      "text/plain": [
       "array([[ 0.03787129, -0.0003477 ],\n",
       "       [-0.0003477 ,  0.00589805]])"
      ]
     },
     "execution_count": 27,
     "metadata": {},
     "output_type": "execute_result"
    }
   ],
   "source": [
    "# Covariance Matrix\n",
    "\n",
    "exp_cov = exp_risk.T*exp_corr*exp_risk\n",
    "exp_cov"
   ]
  },
  {
   "cell_type": "code",
   "execution_count": null,
   "metadata": {
    "id": "wq5bXEm6w7GQ"
   },
   "outputs": [],
   "source": [
    "# Optimization Variables\n",
    "\n",
    "weights = cp.Variable(len(exp_ret))                       # Portfolio weights (to be determined)\n",
    "\n",
    "exp_ret_port = weights.T@exp_ret                          # Portfolio return\n",
    "\n",
    "exp_risk_port = cp.quad_form(weights, exp_cov)            # Portfolio risk\n",
    "\n",
    "utility = exp_ret_port - risk_aversion * exp_risk_port    # Utility function\n"
   ]
  },
  {
   "cell_type": "code",
   "execution_count": null,
   "metadata": {
    "id": "WzeEs1z-w7GR"
   },
   "outputs": [],
   "source": [
    "# Formulate MVO \n",
    "\n",
    "objective = cp.Maximize(utility)\n",
    " \n",
    "constraints = [cp.sum(weights)==1, weights>=0]            # Includes no shorting constraint"
   ]
  },
  {
   "cell_type": "code",
   "execution_count": null,
   "metadata": {
    "id": "z5KH9vWgw7GR",
    "outputId": "b99b0978-6621-4ea6-89ac-f0a76a37a7cd"
   },
   "outputs": [
    {
     "name": "stdout",
     "output_type": "stream",
     "text": [
      "OPTIMAL PORTFOLIO\n",
      "status: optimal\n",
      "stock and bond weights = [59.31899908 40.68100092]\n",
      "port ret = [0.09090801]\n",
      "port risk = 0.12\n"
     ]
    }
   ],
   "source": [
    "# Run Optimizer\n",
    "\n",
    "problem = cp.Problem(objective, constraints)\n",
    "problem.solve()\n",
    "print('OPTIMAL PORTFOLIO')\n",
    "print(\"status:\", problem.status)\n",
    "print(f'stock and bond weights = {weights.value*100}')\n",
    "print(f'port ret = {exp_ret_port.value}')\n",
    "print(f'port risk = {exp_risk_port.value**.5:.2f}')"
   ]
  }
 ],
 "metadata": {
  "colab": {
   "name": "Class 2 - Build and Backtest Strategic Asset Allocation (SAA) Strategy.ipynb",
   "provenance": []
  },
  "kernelspec": {
   "display_name": "Python 3",
   "language": "python",
   "name": "python3"
  },
  "language_info": {
   "codemirror_mode": {
    "name": "ipython",
    "version": 3
   },
   "file_extension": ".py",
   "mimetype": "text/x-python",
   "name": "python",
   "nbconvert_exporter": "python",
   "pygments_lexer": "ipython3",
   "version": "3.8.8"
  }
 },
 "nbformat": 4,
 "nbformat_minor": 1
}
